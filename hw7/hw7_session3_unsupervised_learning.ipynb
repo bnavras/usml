{
 "cells": [
  {
   "cell_type": "markdown",
   "metadata": {
    "_cell_guid": "8eaf28dd-1d17-4ac4-b627-82486299e1ee",
    "_uuid": "89fffe1d933848893186474235a840647df75417"
   },
   "source": [
    "<center>\n",
    "## Открытый курс по машинному обучению. Сессия № 3\n",
    "<center>\n",
    "Авторы материала: Ольга Дайховская (@aiho), Юрий Кашницкий (@yorko). \n",
    "    \n",
    "Материал распространяется на условиях лицензии [Creative Commons CC BY-NC-SA 4.0](https://creativecommons.org/licenses/by-nc-sa/4.0/). Можно использовать в любых целях (редактировать, поправлять и брать за основу), кроме коммерческих, но с обязательным упоминанием автора материала."
   ]
  },
  {
   "cell_type": "markdown",
   "metadata": {
    "_cell_guid": "68498a81-07c0-4c29-87f1-46362e3cdd78",
    "_uuid": "56494642ffef608400b3439d88fec65212ded013"
   },
   "source": [
    "# <center>Домашнее задание № 7 \n",
    "## <center> Обучение без учителя"
   ]
  },
  {
   "cell_type": "markdown",
   "metadata": {
    "_cell_guid": "2991f7f0-a88c-473f-935e-878bc23c503a",
    "_uuid": "34ba43daca19e17146653ea3819debda9aef16cf"
   },
   "source": [
    "В этом задании мы разберемся с тем, как работают методы снижения размерности и кластеризации данных. Заодно еще раз попрактикуемся в задаче классификации.\n",
    "\n",
    "Мы будем работать с набором данных [Samsung Human Activity Recognition](https://archive.ics.uci.edu/ml/datasets/Human+Activity+Recognition+Using+Smartphones). Скачайте данные [отсюда](https://drive.google.com/file/d/14RukQ0ylM2GCdViUHBBjZ2imCaYcjlux/view?usp=sharing). Данные поступают с акселерометров и гироскопов мобильных телефонов Samsung Galaxy S3 (подробнее про признаки – по ссылке на UCI выше), также известен вид активности человека с телефоном в кармане – ходил ли он, стоял, лежал, сидел или шел вверх/вниз по лестнице. \n",
    "\n",
    "Вначале мы представим, что вид активности нам неизвестнен, и попробуем кластеризовать людей чисто на основе имеющихся признаков. Затем решим задачу определения вида физической активности именно как задачу классификации. \n",
    "\n",
    "Заполните код в клетках (где написано \"Ваш код здесь\") и ответьте на вопросы в [веб-форме](https://docs.google.com/forms/d/19oWnb5CxC5g-Zn45VWjuq_OP8YPCrn_g8Wq3aMaW2U4)."
   ]
  },
  {
   "cell_type": "code",
   "execution_count": null,
   "metadata": {
    "_cell_guid": "e2219f25-de96-439e-9e54-e825dc7e7b16",
    "_uuid": "a919fbedf2176a5dcb8199244426b793e3eb54e8",
    "collapsed": true
   },
   "outputs": [],
   "source": [
    "import numpy as np\n",
    "import pandas as pd\n",
    "import seaborn as sns\n",
    "from tqdm import tqdm_notebook\n",
    "\n",
    "%matplotlib inline\n",
    "from matplotlib import pyplot as plt\n",
    "plt.style.use(['seaborn-darkgrid'])\n",
    "plt.rcParams['figure.figsize'] = (12, 9)\n",
    "plt.rcParams['font.family'] = 'DejaVu Sans'\n",
    "\n",
    "from sklearn import metrics\n",
    "from sklearn.cluster import KMeans, AgglomerativeClustering, SpectralClustering\n",
    "from sklearn.decomposition import PCA\n",
    "from sklearn.model_selection import GridSearchCV\n",
    "from sklearn.preprocessing import StandardScaler\n",
    "from sklearn.svm import LinearSVC\n",
    "\n",
    "RANDOM_STATE = 17"
   ]
  },
  {
   "cell_type": "code",
   "execution_count": null,
   "metadata": {
    "_cell_guid": "d8cc0670-2032-4883-8e90-da194f1f1694",
    "_uuid": "e9cae618d0d5bcc835f61d9c2bd2d2556e07e069",
    "collapsed": true
   },
   "outputs": [],
   "source": [
    "X_train = np.loadtxt(\"../input/samsung_train.txt\")\n",
    "y_train = np.loadtxt(\"../input/samsung_train_labels.txt\").astype(int)\n",
    "\n",
    "X_test = np.loadtxt(\"../input/samsung_test.txt\")\n",
    "y_test = np.loadtxt(\"../input/samsung_test_labels.txt\").astype(int)"
   ]
  },
  {
   "cell_type": "code",
   "execution_count": null,
   "metadata": {
    "_cell_guid": "ffbb87f9-da7f-4821-9d20-635a3cfff935",
    "_uuid": "e05d40cc88b317ac801552a710256d4b56050b2f",
    "collapsed": true
   },
   "outputs": [],
   "source": [
    "# Проверим размерности\n",
    "assert(X_train.shape == (7352, 561) and y_train.shape == (7352,))\n",
    "assert(X_test.shape == (2947, 561) and y_test.shape == (2947,))"
   ]
  },
  {
   "cell_type": "markdown",
   "metadata": {
    "_cell_guid": "9e1796ed-ecfe-46e4-b129-c87ebdcdf897",
    "_uuid": "b767300f4cf3d10a3430528ad2c6ad9978b514e1"
   },
   "source": [
    "Для кластеризации нам не нужен вектор ответов, поэтому будем работать с объединением обучающей и тестовой выборок. Объедините *X_train* с *X_test*, а *y_train* – с *y_test*. "
   ]
  },
  {
   "cell_type": "code",
   "execution_count": null,
   "metadata": {
    "_cell_guid": "f11c60d6-fb6c-4dbd-8d00-b417740ef223",
    "_uuid": "21f205e2297644f42a92195f106ba779c769f167",
    "collapsed": true
   },
   "outputs": [],
   "source": [
    "# Ваш код здесь\n",
    "X = np.concatenate([X_train, X_test])\n",
    "y = np.concatenate([y_train, y_test])"
   ]
  },
  {
   "cell_type": "markdown",
   "metadata": {
    "_cell_guid": "3b0e027c-872f-4a24-ae30-1a70d2fe6c90",
    "_uuid": "cce2322adbc94235af70f91fbc3b9a98c1c5dcec"
   },
   "source": [
    "Определим число уникальных значений меток целевого класса."
   ]
  },
  {
   "cell_type": "code",
   "execution_count": null,
   "metadata": {
    "_cell_guid": "5a56debd-43d2-42c4-ae76-be0f91ee5db2",
    "_uuid": "3ca9afb163c743b6f8a24b4357368e91d6363a48",
    "collapsed": true
   },
   "outputs": [],
   "source": [
    "np.unique(y)"
   ]
  },
  {
   "cell_type": "code",
   "execution_count": null,
   "metadata": {
    "_cell_guid": "203177e7-d592-4202-ba74-8004f09ef843",
    "_uuid": "d55bd8700b15f7b6a02f7d527a3642dbbcceb957",
    "collapsed": true
   },
   "outputs": [],
   "source": [
    "n_classes = np.unique(y).size"
   ]
  },
  {
   "cell_type": "markdown",
   "metadata": {
    "_cell_guid": "e17de625-6d0c-44c1-a61a-260f4240b697",
    "_uuid": "f2aa7fccecda3eec421bfd1a812c5e0a43f95b4b"
   },
   "source": [
    "[Эти метки соответствуют:](https://archive.ics.uci.edu/ml/machine-learning-databases/00240/UCI%20HAR%20Dataset.names)\n",
    "- 1 - ходьбе\n",
    "- 2 - подъему вверх по лестнице\n",
    "- 3 - спуску по лестнице\n",
    "- 4 - сидению\n",
    "- 5 - стоянию\n",
    "- 6 - лежанию"
   ]
  },
  {
   "cell_type": "markdown",
   "metadata": {
    "_cell_guid": "1c42e1f7-a42f-40ea-a913-2be9757340db",
    "_uuid": "520b87b1ba5123848d16736d2abb209a38fb07c8"
   },
   "source": [
    "Отмасштабируйте выборку с помощью `StandardScaler` с параметрами по умолчанию."
   ]
  },
  {
   "cell_type": "code",
   "execution_count": null,
   "metadata": {
    "_cell_guid": "e7f47ac0-6b6c-4871-b5a2-ced2a2986835",
    "_uuid": "011b596e3ab6bccbf7f1f0a5cec9526120a63b52",
    "collapsed": true
   },
   "outputs": [],
   "source": [
    "# Ваш код здесь\n",
    "scaler = StandardScaler()\n",
    "X_scaled = scaler.fit_transform(X)"
   ]
  },
  {
   "cell_type": "markdown",
   "metadata": {
    "_cell_guid": "7bc1f12e-970a-4273-adaf-102f037c548e",
    "_uuid": "9358c564610fbe93d9cfea9929b1c8c1f91d2d7a"
   },
   "source": [
    "Понижаем размерность с помощью PCA, оставляя столько компонент, сколько нужно для того, чтобы объяснить как минимум 90% дисперсии исходных (отмасштабированных) данных. Используйте отмасштабированную выборку и зафиксируйте random_state (константа RANDOM_STATE)."
   ]
  },
  {
   "cell_type": "code",
   "execution_count": null,
   "metadata": {
    "_cell_guid": "09efbcf9-1d66-4042-8536-808027134568",
    "_uuid": "f350e6305f111b1d3edfd96b6d1dbda183f246d8",
    "collapsed": true
   },
   "outputs": [],
   "source": [
    "# Ваш код здесь\n",
    "pca = PCA(0.90, random_state=RANDOM_STATE)\n",
    "X_pca = pca.fit_transform(X_scaled)"
   ]
  },
  {
   "cell_type": "markdown",
   "metadata": {
    "_cell_guid": "5450fd7c-adcd-4b19-b729-87fbc6b67cfb",
    "_uuid": "b6687b17abf17d1e8eca3380116a865ec433db53"
   },
   "source": [
    "**Вопрос 1:**<br>\n",
    "Какое минимальное число главных компонент нужно выделить, чтобы объяснить 90% дисперсии исходных (отмасштабированных) данных?"
   ]
  },
  {
   "cell_type": "code",
   "execution_count": null,
   "metadata": {
    "_cell_guid": "ff5987aa-d557-4ff6-a42a-9fe7afa2e7d7",
    "_uuid": "8161328b8470fbe39de761abbc24e894660ba6ee",
    "collapsed": true
   },
   "outputs": [],
   "source": [
    "X_scaled.shape"
   ]
  },
  {
   "cell_type": "code",
   "execution_count": null,
   "metadata": {
    "_cell_guid": "c8151249-1e63-4a7d-8889-87b55506514a",
    "_uuid": "67cc9899a44215fe995fc3a069645aee883858a7",
    "collapsed": true
   },
   "outputs": [],
   "source": [
    "pca.n_components_, X_pca.shape[1]"
   ]
  },
  {
   "cell_type": "markdown",
   "metadata": {
    "_cell_guid": "59ecdb2f-1006-43f7-8489-6769241e4285",
    "_uuid": "dda6e461d4a59f6fbdedc808747f90dbb025fc4c"
   },
   "source": [
    "\n",
    "**Варианты:**\n",
    "- 56 \n",
    "- **65**\n",
    "- 66\n",
    "- 193"
   ]
  },
  {
   "cell_type": "code",
   "execution_count": null,
   "metadata": {
    "_cell_guid": "440f2bd3-6d9a-492f-bdad-c2649dd6388a",
    "_uuid": "faa5431e5298ad90b31f2adce97e1d40de627eff",
    "collapsed": true
   },
   "outputs": [],
   "source": []
  },
  {
   "cell_type": "markdown",
   "metadata": {
    "_cell_guid": "6acf63ca-3ebb-4309-9127-bbdc0d5e8c57",
    "_uuid": "718171aa1ce83fb1a9cbc01853c7d77e7bdaa8da"
   },
   "source": [
    "**Вопрос 2:**<br>\n",
    "Сколько процентов дисперсии приходится на первую главную компоненту? Округлите до целых процентов. \n",
    "\n",
    "**Варианты:**\n",
    "- 45\n",
    "- **51**\n",
    "- 56\n",
    "- 61"
   ]
  },
  {
   "cell_type": "code",
   "execution_count": null,
   "metadata": {
    "_cell_guid": "6f2e4c86-1124-4f47-b144-0bf19c32a497",
    "_uuid": "d6c3e3e9a2ca91016f93b7b00d0a4430328a70c3",
    "collapsed": true
   },
   "outputs": [],
   "source": [
    "f'{pca.explained_variance_ratio_[0]:.2%}'"
   ]
  },
  {
   "cell_type": "markdown",
   "metadata": {
    "_cell_guid": "eb3ca4ee-19ab-4c8b-bdd0-5ba9c3aaf18d",
    "_uuid": "ebef121dffea2145c00133e4732ff4e9cfa52ae5"
   },
   "source": [
    "Визуализируйте данные в проекции на первые две главные компоненты."
   ]
  },
  {
   "cell_type": "code",
   "execution_count": null,
   "metadata": {
    "_cell_guid": "b08a6621-769e-4667-81a4-a7ce4feba20e",
    "_uuid": "e86d1582e10d8e177edcd3c802d6a64fa032f794",
    "collapsed": true
   },
   "outputs": [],
   "source": [
    "X_new = pca.inverse_transform(X_pca)\n",
    "plt.scatter(X_new[:,0], X_new[:,1], c=y, s=20, cmap='viridis');"
   ]
  },
  {
   "cell_type": "markdown",
   "metadata": {
    "_cell_guid": "a6fd7899-167c-439e-87e4-f0ed4a35641f",
    "_uuid": "3be27e333b0ea14b4fc0d48107bf42d79c97e8bd"
   },
   "source": [
    "**Вопрос 3:**<br>\n",
    "Если все получилось правильно, Вы увидите сколько-то кластеров, почти идеально отделенных друг от друга. Какие виды активности входят в эти кластеры?<br>\n",
    "\n",
    "**Ответ:**\n",
    "- 1 кластер: все 6 активностей\n",
    "- **2 кластера: (ходьба, подъем вверх по лестнице, спуск по лестнице) и (сидение, стояние, лежание)**\n",
    "- 3 кластера: (ходьба), (подъем вверх по лестнице, спуск по лестнице) и (сидение, стояние, лежание)\n",
    "- 6 кластеров"
   ]
  },
  {
   "cell_type": "markdown",
   "metadata": {
    "_cell_guid": "307089d1-79a1-41be-94aa-619bf47b57ba",
    "_uuid": "4948adf14336b886908c01de718823450ed928a1"
   },
   "source": [
    "------------------------------"
   ]
  },
  {
   "cell_type": "markdown",
   "metadata": {
    "_cell_guid": "c1da168c-321a-40d7-9088-6fec21e88822",
    "_uuid": "fc44a7731cdaad4fe8005f58bbd5fccbfa56e2c7"
   },
   "source": [
    "Сделайте кластеризацию данных методом `KMeans`, обучив модель на данных со сниженной за счет PCA размерностью. В данном случае мы подскажем, что нужно искать именно 6 кластеров, но в общем случае мы не будем знать, сколько кластеров надо искать.\n",
    "\n",
    "Параметры:\n",
    "\n",
    "- **n_clusters** = n_classes (число уникальных меток целевого класса)\n",
    "- **n_init** = 100\n",
    "- **random_state** = RANDOM_STATE (для воспроизводимости результата)\n",
    "\n",
    "Остальные параметры со значениями по умолчанию."
   ]
  },
  {
   "cell_type": "code",
   "execution_count": null,
   "metadata": {
    "_cell_guid": "f042a773-0caa-47bc-b7b3-1a35f03638fd",
    "_uuid": "8a2c918d3df228b4f24284a4a8d419dbd3e54dbe",
    "collapsed": true
   },
   "outputs": [],
   "source": [
    "k_means = KMeans(n_clusters=n_classes, n_init=100, random_state=RANDOM_STATE)\n",
    "k_means.fit(X_pca)"
   ]
  },
  {
   "cell_type": "markdown",
   "metadata": {
    "_cell_guid": "bfce03ef-a216-494b-8368-d987ca95482f",
    "_uuid": "3592a9139af639b6817af7d4b0c4098eb4b85910"
   },
   "source": [
    "Визуализируйте данные в проекции на первые две главные компоненты. Раскрасьте точки в соответствии с полученными метками кластеров."
   ]
  },
  {
   "cell_type": "code",
   "execution_count": null,
   "metadata": {
    "_cell_guid": "ae35b80c-5fc6-4144-8a0e-06e5e6eebb62",
    "_uuid": "757e040773f9194cfbf3e9e6aad84c8cd0197474",
    "collapsed": true
   },
   "outputs": [],
   "source": [
    "plt.scatter(X_pca[:,0], X_pca[:,1], c=k_means.labels_, s=20,  cmap='viridis');\n",
    "plt.colorbar()"
   ]
  },
  {
   "cell_type": "markdown",
   "metadata": {
    "_cell_guid": "9d40addd-db69-4211-8b78-5d5ba1bedf66",
    "_uuid": "e14df37d6d45b3733070f92d0858e50284fd2a38"
   },
   "source": [
    "Посмотрите на соответствие между метками кластеров и исходными метками классов и на то, какие виды активностей алгоритм `KMeans` путает."
   ]
  },
  {
   "cell_type": "code",
   "execution_count": null,
   "metadata": {
    "_cell_guid": "1eada8ed-e34f-4135-b1c7-71ab00b0cf7b",
    "_uuid": "51b47857769a82e91541f3f796bd09363f8b5360",
    "collapsed": true,
    "scrolled": true
   },
   "outputs": [],
   "source": [
    "tab = pd.crosstab(y, k_means.labels_, margins=True)\n",
    "tab.index = ['ходьба', 'подъем вверх по лестнице', \n",
    "             'спуск по лестнице', 'сидение', 'стояние', 'лежание', 'все']\n",
    "tab.columns = ['cluster' + str(i + 1) for i in range(6)] + ['все']\n",
    "tab"
   ]
  },
  {
   "cell_type": "markdown",
   "metadata": {
    "_cell_guid": "d4821a23-bb3a-47a2-b6c1-7408e8fdca97",
    "_uuid": "a0c7031377372cde7dfce53f9e81831e974d3a33"
   },
   "source": [
    "Видим, что каждому классу (т.е. каждой активности) соответствуют несколько кластеров. Давайте посмотрим на максимальную долю объектов в классе, отнесенных к какому-то одному кластеру. Это будет простой метрикой, характеризующей, насколько легко класс отделяется от других при кластеризации. \n",
    "\n",
    "Пример: если для класса \"спуск по лестнице\", в котором 1406 объектов,  распределение кластеров такое:\n",
    " - кластер 1 – 900\n",
    " - кластер 3 – 500\n",
    " - кластер 6 – 6,\n",
    " \n",
    "то такая доля будет 900 / 1406 $\\approx$ 0.64.\n",
    " \n",
    "\n",
    "**Вопрос 4:**<br>\n",
    "Какой вид активности отделился от остальных лучше всего в терминах простой  метрики, описанной выше?<br>\n",
    "\n",
    "**Ответ:**\n",
    "- ходьба\n",
    "- стояние\n",
    "- спуск по лестнице\n",
    "- **нет верного ответа**"
   ]
  },
  {
   "cell_type": "code",
   "execution_count": null,
   "metadata": {
    "_cell_guid": "0c8f3a2d-85b0-4568-9d16-7493fbf18d0d",
    "_uuid": "baa5576225f0be9f474f375e39b8fe05d3cd8397",
    "collapsed": true
   },
   "outputs": [],
   "source": [
    "np.max(tab[tab.columns[:-1]][:-1].values, axis=1) / tab[\"все\"][:-1].values"
   ]
  },
  {
   "cell_type": "markdown",
   "metadata": {
    "_cell_guid": "e6dd0c75-d35f-4c2a-af14-273ff2b3b488",
    "_uuid": "b2ce76889e9356330b6208956af1047227f17c27"
   },
   "source": [
    "Видно, что kMeans не очень хорошо отличает только активности друг от друга. Используйте метод локтя, чтобы выбрать оптимальное количество кластеров. Параметры алгоритма и данные используем те же, что раньше, меняем только `n_clusters`."
   ]
  },
  {
   "cell_type": "code",
   "execution_count": null,
   "metadata": {
    "_cell_guid": "51b9967f-88da-4f26-928d-bf3e93bdea96",
    "_uuid": "2983261c43ca3a868bc476e94a3f30d32929f232",
    "collapsed": true
   },
   "outputs": [],
   "source": [
    "inertia = []\n",
    "for k in tqdm_notebook(range(1, n_classes + 1)):\n",
    "    kmeans = KMeans(random_state=17, n_init=100, n_clusters=k).fit(X_pca)\n",
    "    inertia.append(kmeans.inertia_)\n",
    "plt.plot(range(1, 7), inertia, marker='s')\n",
    "plt.xlabel('$k$')\n",
    "plt.ylabel('$J(C_k)$');"
   ]
  },
  {
   "cell_type": "markdown",
   "metadata": {
    "_cell_guid": "a442fb52-6f86-4ba4-83f3-c6936586700c",
    "_uuid": "12e273a5c93fb9e2d58634691aca5ffa17a4fa15"
   },
   "source": [
    "**Вопрос 5:**<br>\n",
    "Какое количество кластеров оптимально выбрать, согласно методу локтя?<br>\n",
    "\n",
    "**Ответ:**\n",
    "- 1\n",
    "- 2\n",
    "- **3**\n",
    "- 4"
   ]
  },
  {
   "cell_type": "markdown",
   "metadata": {
    "_cell_guid": "63dc482a-a72d-4c62-a04e-92479f1c37ff",
    "_uuid": "dec78f507d89b13d1871748515ee9a669ae76bd1"
   },
   "source": [
    "------------------------"
   ]
  },
  {
   "cell_type": "markdown",
   "metadata": {
    "_cell_guid": "2297bfc6-87af-4a16-9a9a-acafb3e1a0ec",
    "_uuid": "bc7b51793c2f00ef8985ca6d7d06f8a59782c695"
   },
   "source": [
    "Попробуем еще один метод кластеризации, который описывался в статье – агломеративную кластеризацию."
   ]
  },
  {
   "cell_type": "code",
   "execution_count": null,
   "metadata": {
    "_cell_guid": "a16b1f13-1b72-4b1a-888f-cef31e939d43",
    "_uuid": "27586854a4da75d57354f7a42c2633f7e9fe36cc",
    "collapsed": true
   },
   "outputs": [],
   "source": [
    "ag = AgglomerativeClustering(n_clusters=n_classes, \n",
    "                             linkage='ward').fit(X_pca)"
   ]
  },
  {
   "cell_type": "markdown",
   "metadata": {
    "_cell_guid": "4c0e2670-6a2c-4d84-902a-c1c8da9d23a0",
    "_uuid": "9e896bd1a7c3d162c83262ac64b9976c9cfebb5e"
   },
   "source": [
    "Посчитайте Adjusted Rand Index (`sklearn.metrics`) для получившегося разбиения на кластеры и для `KMeans` с параметрами из задания к 4 вопросу."
   ]
  },
  {
   "cell_type": "code",
   "execution_count": null,
   "metadata": {
    "_cell_guid": "56228eb2-0ec6-4a06-b629-e32d18c412a3",
    "_uuid": "c009dd8de6787378fa882e518f5009bef2b249fc",
    "collapsed": true
   },
   "outputs": [],
   "source": [
    "from sklearn.metrics import adjusted_rand_score"
   ]
  },
  {
   "cell_type": "code",
   "execution_count": null,
   "metadata": {
    "_cell_guid": "5db16e51-f9e7-4c85-84ee-a1f68d04df2f",
    "_uuid": "458fb91b6f0e69e647f48a5ba2fa11ed34050a65",
    "collapsed": true
   },
   "outputs": [],
   "source": [
    "adjusted_rand_score(y, ag.labels_), adjusted_rand_score(y, KMeans(random_state=17, n_init=100, n_clusters=n_classes).fit(X_pca).labels_)"
   ]
  },
  {
   "cell_type": "markdown",
   "metadata": {
    "_cell_guid": "013773b8-f753-4a33-8cd7-dc156c94cdd4",
    "_uuid": "35022f51abad540647bc09bccf7d1795ba3c9fec"
   },
   "source": [
    "**Вопрос 6:**<br>\n",
    "Отметьте все верные утверждения.<br>\n",
    "\n",
    "**Варианты:**\n",
    "- **Согласно ARI, KMeans справился с кластеризацией хуже, чем Agglomerative Clustering**\n",
    "- **Для ARI не имеет значения какие именно метки присвоены кластерам, имеет значение только разбиение объектов на кластеры**\n",
    "- **В случае случайного разбиения на кластеры ARI будет близок к нулю**"
   ]
  },
  {
   "cell_type": "markdown",
   "metadata": {
    "_cell_guid": "9a1f499d-20d6-4140-9cdb-ecaeea12921b",
    "_uuid": "85e8871b08f0acde1a6a03407dec48821b1c2396"
   },
   "source": [
    "-------------------------------"
   ]
  },
  {
   "cell_type": "markdown",
   "metadata": {
    "_cell_guid": "f6adc23e-5736-4402-be63-bfaf4d7e3876",
    "_uuid": "01ec0a63e5a8c067fb0b6e72eac8270bc631e91f"
   },
   "source": [
    "Можно заметить, что задача не очень хорошо решается именно как задача кластеризации, если выделять несколько кластеров (> 2). Давайте теперь решим задачу классификации, вспомнив, что данные у нас размечены.  \n",
    "\n",
    "Для классификации используйте метод опорных векторов – класс `sklearn.svm.LinearSVC`. Мы в курсе отдельно не рассматривали этот алгоритм, но он очень известен, почитать про него можно, например, в материалах Евгения Соколова –  [тут](https://github.com/esokolov/ml-course-msu/blob/master/ML16/lecture-notes/Sem11_linear.pdf). \n",
    "\n",
    "Настройте для `LinearSVC` гиперпараметр `C` с помощью `GridSearchCV`. \n",
    "\n",
    "- Обучите новый `StandardScaler` на обучающей выборке (со всеми исходными признаками), прмиените масштабирование к тестовой выборке\n",
    "- В `GridSearchCV` укажите  cv=3."
   ]
  },
  {
   "cell_type": "code",
   "execution_count": null,
   "metadata": {
    "_cell_guid": "f86d5602-a5c9-45cd-972c-537acbe16313",
    "_uuid": "6ca78caeaef95842f82cf4cbff9f5d3751fa817e",
    "collapsed": true
   },
   "outputs": [],
   "source": [
    "scaler = StandardScaler()\n",
    "scaler.fit(X_train)\n",
    "X_train_scaled = scaler.transform(X_train)\n",
    "X_test_scaled = scaler.transform(X_test)"
   ]
  },
  {
   "cell_type": "code",
   "execution_count": null,
   "metadata": {
    "_cell_guid": "1b8af514-8ae6-4f3f-9f93-2dfc945e428f",
    "_uuid": "59c7120a3c9c05b27cae9cdb9f70a959756f4753",
    "collapsed": true
   },
   "outputs": [],
   "source": [
    "svc = LinearSVC(random_state=RANDOM_STATE)\n",
    "svc_params = {'C': [0.001, 0.01, 0.1, 1, 10]}"
   ]
  },
  {
   "cell_type": "code",
   "execution_count": null,
   "metadata": {
    "_cell_guid": "be5a3994-5143-445a-ab3b-93c7933176f8",
    "_uuid": "449aec8c20a33088cde0739a51047cfa606c7897",
    "collapsed": true
   },
   "outputs": [],
   "source": [
    "grid_scv = GridSearchCV(estimator=svc, cv=3, param_grid=svc_params)\n",
    "best_svc = grid_scv.fit(X_train_scaled, y_train)"
   ]
  },
  {
   "cell_type": "code",
   "execution_count": null,
   "metadata": {
    "_cell_guid": "a48e6c6c-1c54-420e-8aa9-795fa9137a51",
    "_uuid": "0dc73adcbbba22a6bf34999ad8914e6d83c8eaed",
    "collapsed": true
   },
   "outputs": [],
   "source": [
    "best_svc.best_params_"
   ]
  },
  {
   "cell_type": "code",
   "execution_count": null,
   "metadata": {
    "_cell_guid": "fb5c66d6-cd73-439e-a24d-acd43e349770",
    "_uuid": "1c6546576ba427721c3bedd405df2046ae73e590",
    "collapsed": true
   },
   "outputs": [],
   "source": [
    "best_without_pca = best_svc.best_score_"
   ]
  },
  {
   "cell_type": "markdown",
   "metadata": {
    "_cell_guid": "c2a48645-e9b8-4929-9905-b27674756ac8",
    "_uuid": "66a8b19d936cf4f29110f1f76083236d45563093"
   },
   "source": [
    "**Вопрос 7**<br>\n",
    "Какое значение гиперпараметра `C` было выбрано лучшим по итогам кросс-валидации?<br>\n",
    "\n",
    "**Ответ:**\n",
    "- 0.001\n",
    "- 0.01\n",
    "- **0.1**\n",
    "- 1\n",
    "- 10"
   ]
  },
  {
   "cell_type": "code",
   "execution_count": null,
   "metadata": {
    "_cell_guid": "da103eea-a77b-4715-b588-7f420cd69110",
    "_uuid": "cc78506d14f7c764bc7215e2def62b85e762d016",
    "collapsed": true
   },
   "outputs": [],
   "source": [
    "y_predicted = best_svc.predict(X_test_scaled)"
   ]
  },
  {
   "cell_type": "code",
   "execution_count": null,
   "metadata": {
    "_cell_guid": "470bf6e4-66f6-4b41-9e4d-4b56d3f99ddf",
    "_uuid": "13fa3b7692742cd717b3ee1f84c0cfa2eb6a4da5",
    "collapsed": true
   },
   "outputs": [],
   "source": [
    "tab = pd.crosstab(y_test, y_predicted, margins=True)\n",
    "tab.index = ['ходьба', 'подъем вверх по лестнице', 'спуск по лестнице', \n",
    "             'сидение', 'стояние', 'лежание', 'все']\n",
    "tab.columns = tab.index\n",
    "tab"
   ]
  },
  {
   "cell_type": "code",
   "execution_count": null,
   "metadata": {
    "_cell_guid": "a90c46c1-6a58-430d-badb-49305188ebdc",
    "_uuid": "7d2e9e9c4f68cd8454ed5fe249232776ee8138d6",
    "collapsed": true
   },
   "outputs": [],
   "source": [
    "list(metrics.precision_score(y_pred=y_predicted, y_true=y_test, average=None)), \\\n",
    "list(metrics.recall_score(y_pred=y_predicted, y_true=y_test, average=None))\n"
   ]
  },
  {
   "cell_type": "markdown",
   "metadata": {
    "_cell_guid": "e1026a4a-428c-4dd9-9d22-3debc284b65b",
    "_uuid": "a46f3b284bdc3f85e008a16be4ccaaff4ed93100"
   },
   "source": [
    "**Вопрос 8:**<br>\n",
    "Какой вид активности SVM определяет хуже всего в терминах точности? Полноты? <br>\n",
    "\n",
    "**Ответ:**\n",
    "- по точности – подъем вверх по лестнице, по полноте – лежание\n",
    "- по точности – лежание, по полноте – сидение\n",
    "- по точности – ходьба, по полноте – ходьба\n",
    "- **по точности – стояние, по полноте – сидение **"
   ]
  },
  {
   "cell_type": "code",
   "execution_count": null,
   "metadata": {
    "_cell_guid": "edd3be09-8763-4a1d-87ba-f56b8c744467",
    "_uuid": "cec9789cb2bcfb135223ad46a6069a756d716b3c",
    "collapsed": true
   },
   "outputs": [],
   "source": [
    "pca.fit(X_train_scaled)\n",
    "X_pca_train = pca.transform(X_train_scaled)\n",
    "X_pca_test = pca.transform(X_test_scaled)"
   ]
  },
  {
   "cell_type": "code",
   "execution_count": null,
   "metadata": {
    "_cell_guid": "4151152c-cdab-4bed-9d86-bf89d1e10a83",
    "_uuid": "9e7d5ad4b66b622033493eac4115f45b89bf72f9",
    "collapsed": true
   },
   "outputs": [],
   "source": [
    "best_svc = grid_scv.fit(X_pca_train, y_train)"
   ]
  },
  {
   "cell_type": "code",
   "execution_count": null,
   "metadata": {
    "_cell_guid": "d682bf6f-6f2b-4bf2-88b2-ce04bf4f47ab",
    "_uuid": "ebd9d619befd2c44c36c2b1bdc6c976476c03a5e",
    "collapsed": true,
    "scrolled": true
   },
   "outputs": [],
   "source": [
    "best_svc.best_params_"
   ]
  },
  {
   "cell_type": "code",
   "execution_count": null,
   "metadata": {
    "_cell_guid": "0e333426-9e08-4946-a64a-e6d477f288ed",
    "_uuid": "64f92ed8588b32d2b5988ba184b4bd5bd6fe09ac",
    "collapsed": true
   },
   "outputs": [],
   "source": [
    "best_with_pca = best_svc.best_score_"
   ]
  },
  {
   "cell_type": "code",
   "execution_count": null,
   "metadata": {
    "_cell_guid": "bd049452-4d91-4f7f-9cc8-78ae68ac7494",
    "_uuid": "4194c9508510d6aead32175286ad9777d48bee80",
    "collapsed": true
   },
   "outputs": [],
   "source": [
    "best_without_pca - best_with_pca"
   ]
  },
  {
   "cell_type": "markdown",
   "metadata": {
    "_cell_guid": "031c50d0-3df1-4ade-a4df-9c5b685c3aef",
    "_uuid": "4ffcc770ff0bca49a0566dbff53ea16e0463a985"
   },
   "source": [
    "Наконец, проделайте то же самое, что в 7 вопросе, только добавив PCA.\n",
    "\n",
    "- Используйте выборки `X_train_scaled` и `X_test_scaled`\n",
    "- Обучите тот же PCA, что раньше, на отмасшабированной обучающей выборке, примените преобразование к тестовой\n",
    "- Настройте гиперпараметр `C` на кросс-валидации по обучающей выборке с PCA-преобразованием. Вы заметите, насколько это проходит быстрее, чем раньше.\n",
    "\n",
    "**Вопрос 9:**<br>\n",
    "Какова разность между лучшим качеством (долей верных ответов) на кросс-валидации в случае всех 561 исходных признаков и во втором случае, когда применялся метод главных компонент? Округлите до целых процентов.<br>\n",
    "\n",
    "**Варианты:**\n",
    "- Качество одинаковое\n",
    "- 2%\n",
    "- **4% **\n",
    "- 10%\n",
    "- 20%\n"
   ]
  },
  {
   "cell_type": "markdown",
   "metadata": {
    "_cell_guid": "c867b21b-0669-4d40-b650-e76a66ae8b98",
    "_uuid": "572195bae5753c6b1aa5e1c41017e584dc4c40ff"
   },
   "source": [
    "**Вопрос 10:**<br> ???????\n",
    "Выберите все верные утверждения:\n",
    "\n",
    "**Варианты:**\n",
    "- **Метод главных компонент в данном случае позволил уменьшить время обучения модели, при этом качество (доля верных ответов на кросс-валидации) очень пострадало, более чем на 10%**\n",
    "- **PCA можно использовать для визуализации данных, однако для этой задачи есть и лучше подходящие методы, например, tSNE. Зато PCA имеет меньшую вычислительную сложность**\n",
    "- **PCA строит линейные комбинации исходных признаков, и в некоторых задачах они могут плохо интерпретироваться человеком**"
   ]
  },
  {
   "cell_type": "code",
   "execution_count": null,
   "metadata": {},
   "outputs": [],
   "source": []
  }
 ],
 "metadata": {
  "anaconda-cloud": {},
  "kernelspec": {
   "display_name": "Python 3",
   "language": "python",
   "name": "python3"
  },
  "language_info": {
   "codemirror_mode": {
    "name": "ipython",
    "version": 3
   },
   "file_extension": ".py",
   "mimetype": "text/x-python",
   "name": "python",
   "nbconvert_exporter": "python",
   "pygments_lexer": "ipython3",
   "version": "3.6.2"
  }
 },
 "nbformat": 4,
 "nbformat_minor": 1
}
