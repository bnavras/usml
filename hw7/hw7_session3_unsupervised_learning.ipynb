{
  "cells": [
    {
      "metadata": {
        "_uuid": "89fffe1d933848893186474235a840647df75417",
        "_cell_guid": "8eaf28dd-1d17-4ac4-b627-82486299e1ee"
      },
      "cell_type": "markdown",
      "source": "<center>\n## Открытый курс по машинному обучению. Сессия № 3\n<center>\nАвторы материала: Ольга Дайховская (@aiho), Юрий Кашницкий (@yorko). \n    \nМатериал распространяется на условиях лицензии [Creative Commons CC BY-NC-SA 4.0](https://creativecommons.org/licenses/by-nc-sa/4.0/). Можно использовать в любых целях (редактировать, поправлять и брать за основу), кроме коммерческих, но с обязательным упоминанием автора материала."
    },
    {
      "metadata": {
        "_uuid": "56494642ffef608400b3439d88fec65212ded013",
        "_cell_guid": "68498a81-07c0-4c29-87f1-46362e3cdd78"
      },
      "cell_type": "markdown",
      "source": "# <center>Домашнее задание № 7 \n## <center> Обучение без учителя"
    },
    {
      "metadata": {
        "_uuid": "34ba43daca19e17146653ea3819debda9aef16cf",
        "_cell_guid": "2991f7f0-a88c-473f-935e-878bc23c503a"
      },
      "cell_type": "markdown",
      "source": "В этом задании мы разберемся с тем, как работают методы снижения размерности и кластеризации данных. Заодно еще раз попрактикуемся в задаче классификации.\n\nМы будем работать с набором данных [Samsung Human Activity Recognition](https://archive.ics.uci.edu/ml/datasets/Human+Activity+Recognition+Using+Smartphones). Скачайте данные [отсюда](https://drive.google.com/file/d/14RukQ0ylM2GCdViUHBBjZ2imCaYcjlux/view?usp=sharing). Данные поступают с акселерометров и гироскопов мобильных телефонов Samsung Galaxy S3 (подробнее про признаки – по ссылке на UCI выше), также известен вид активности человека с телефоном в кармане – ходил ли он, стоял, лежал, сидел или шел вверх/вниз по лестнице. \n\nВначале мы представим, что вид активности нам неизвестнен, и попробуем кластеризовать людей чисто на основе имеющихся признаков. Затем решим задачу определения вида физической активности именно как задачу классификации. \n\nЗаполните код в клетках (где написано \"Ваш код здесь\") и ответьте на вопросы в [веб-форме](https://docs.google.com/forms/d/19oWnb5CxC5g-Zn45VWjuq_OP8YPCrn_g8Wq3aMaW2U4)."
    },
    {
      "metadata": {
        "_uuid": "a919fbedf2176a5dcb8199244426b793e3eb54e8",
        "_cell_guid": "e2219f25-de96-439e-9e54-e825dc7e7b16",
        "collapsed": true,
        "trusted": false
      },
      "cell_type": "code",
      "source": "import numpy as np\nimport pandas as pd\nimport seaborn as sns\nfrom tqdm import tqdm_notebook\n\n%matplotlib inline\nfrom matplotlib import pyplot as plt\nplt.style.use(['seaborn-darkgrid'])\nplt.rcParams['figure.figsize'] = (12, 9)\nplt.rcParams['font.family'] = 'DejaVu Sans'\n\nfrom sklearn import metrics\nfrom sklearn.cluster import KMeans, AgglomerativeClustering, SpectralClustering\nfrom sklearn.decomposition import PCA\nfrom sklearn.model_selection import GridSearchCV\nfrom sklearn.preprocessing import StandardScaler\nfrom sklearn.svm import LinearSVC\n\nRANDOM_STATE = 17",
      "execution_count": null,
      "outputs": []
    },
    {
      "metadata": {
        "_uuid": "e9cae618d0d5bcc835f61d9c2bd2d2556e07e069",
        "_cell_guid": "d8cc0670-2032-4883-8e90-da194f1f1694",
        "collapsed": true,
        "trusted": false
      },
      "cell_type": "code",
      "source": "X_train = np.loadtxt(\"../input/samsung_train.txt\")\ny_train = np.loadtxt(\"../input/samsung_train_labels.txt\").astype(int)\n\nX_test = np.loadtxt(\"../input/samsung_test.txt\")\ny_test = np.loadtxt(\"../input/samsung_test_labels.txt\").astype(int)",
      "execution_count": null,
      "outputs": []
    },
    {
      "metadata": {
        "_uuid": "e05d40cc88b317ac801552a710256d4b56050b2f",
        "_cell_guid": "ffbb87f9-da7f-4821-9d20-635a3cfff935",
        "collapsed": true,
        "trusted": false
      },
      "cell_type": "code",
      "source": "# Проверим размерности\nassert(X_train.shape == (7352, 561) and y_train.shape == (7352,))\nassert(X_test.shape == (2947, 561) and y_test.shape == (2947,))",
      "execution_count": null,
      "outputs": []
    },
    {
      "metadata": {
        "_uuid": "b767300f4cf3d10a3430528ad2c6ad9978b514e1",
        "_cell_guid": "9e1796ed-ecfe-46e4-b129-c87ebdcdf897"
      },
      "cell_type": "markdown",
      "source": "Для кластеризации нам не нужен вектор ответов, поэтому будем работать с объединением обучающей и тестовой выборок. Объедините *X_train* с *X_test*, а *y_train* – с *y_test*. "
    },
    {
      "metadata": {
        "_uuid": "21f205e2297644f42a92195f106ba779c769f167",
        "_cell_guid": "f11c60d6-fb6c-4dbd-8d00-b417740ef223",
        "collapsed": true,
        "trusted": false
      },
      "cell_type": "code",
      "source": "# Ваш код здесь\nX = np.concatenate([X_train, X_test])\ny = np.concatenate([y_train, y_test])",
      "execution_count": null,
      "outputs": []
    },
    {
      "metadata": {
        "_uuid": "cce2322adbc94235af70f91fbc3b9a98c1c5dcec",
        "_cell_guid": "3b0e027c-872f-4a24-ae30-1a70d2fe6c90"
      },
      "cell_type": "markdown",
      "source": "Определим число уникальных значений меток целевого класса."
    },
    {
      "metadata": {
        "_uuid": "3ca9afb163c743b6f8a24b4357368e91d6363a48",
        "_cell_guid": "5a56debd-43d2-42c4-ae76-be0f91ee5db2",
        "trusted": false,
        "collapsed": true
      },
      "cell_type": "code",
      "source": "np.unique(y)",
      "execution_count": null,
      "outputs": []
    },
    {
      "metadata": {
        "_uuid": "d55bd8700b15f7b6a02f7d527a3642dbbcceb957",
        "_cell_guid": "203177e7-d592-4202-ba74-8004f09ef843",
        "collapsed": true,
        "trusted": false
      },
      "cell_type": "code",
      "source": "n_classes = np.unique(y).size",
      "execution_count": null,
      "outputs": []
    },
    {
      "metadata": {
        "_uuid": "f2aa7fccecda3eec421bfd1a812c5e0a43f95b4b",
        "_cell_guid": "e17de625-6d0c-44c1-a61a-260f4240b697"
      },
      "cell_type": "markdown",
      "source": "[Эти метки соответствуют:](https://archive.ics.uci.edu/ml/machine-learning-databases/00240/UCI%20HAR%20Dataset.names)\n- 1 - ходьбе\n- 2 - подъему вверх по лестнице\n- 3 - спуску по лестнице\n- 4 - сидению\n- 5 - стоянию\n- 6 - лежанию"
    },
    {
      "metadata": {
        "_uuid": "520b87b1ba5123848d16736d2abb209a38fb07c8",
        "_cell_guid": "1c42e1f7-a42f-40ea-a913-2be9757340db"
      },
      "cell_type": "markdown",
      "source": "Отмасштабируйте выборку с помощью `StandardScaler` с параметрами по умолчанию."
    },
    {
      "metadata": {
        "_uuid": "011b596e3ab6bccbf7f1f0a5cec9526120a63b52",
        "_cell_guid": "e7f47ac0-6b6c-4871-b5a2-ced2a2986835",
        "collapsed": true,
        "trusted": false
      },
      "cell_type": "code",
      "source": "# Ваш код здесь\nscaler = StandardScaler()\nX_scaled = scaler.fit_transform(X)",
      "execution_count": null,
      "outputs": []
    },
    {
      "metadata": {
        "_uuid": "9358c564610fbe93d9cfea9929b1c8c1f91d2d7a",
        "_cell_guid": "7bc1f12e-970a-4273-adaf-102f037c548e"
      },
      "cell_type": "markdown",
      "source": "Понижаем размерность с помощью PCA, оставляя столько компонент, сколько нужно для того, чтобы объяснить как минимум 90% дисперсии исходных (отмасштабированных) данных. Используйте отмасштабированную выборку и зафиксируйте random_state (константа RANDOM_STATE)."
    },
    {
      "metadata": {
        "_uuid": "f350e6305f111b1d3edfd96b6d1dbda183f246d8",
        "_cell_guid": "09efbcf9-1d66-4042-8536-808027134568",
        "collapsed": true,
        "trusted": false
      },
      "cell_type": "code",
      "source": "# Ваш код здесь\npca = PCA(0.90, random_state=RANDOM_STATE)\nX_pca = pca.fit_transform(X_scaled)",
      "execution_count": null,
      "outputs": []
    },
    {
      "metadata": {
        "_uuid": "b6687b17abf17d1e8eca3380116a865ec433db53",
        "_cell_guid": "5450fd7c-adcd-4b19-b729-87fbc6b67cfb"
      },
      "cell_type": "markdown",
      "source": "**Вопрос 1:**<br>\nКакое минимальное число главных компонент нужно выделить, чтобы объяснить 90% дисперсии исходных (отмасштабированных) данных?"
    },
    {
      "metadata": {
        "_uuid": "8161328b8470fbe39de761abbc24e894660ba6ee",
        "_cell_guid": "ff5987aa-d557-4ff6-a42a-9fe7afa2e7d7",
        "trusted": false,
        "collapsed": true
      },
      "cell_type": "code",
      "source": "X_scaled.shape",
      "execution_count": null,
      "outputs": []
    },
    {
      "metadata": {
        "_uuid": "67cc9899a44215fe995fc3a069645aee883858a7",
        "_cell_guid": "c8151249-1e63-4a7d-8889-87b55506514a",
        "trusted": false,
        "collapsed": true
      },
      "cell_type": "code",
      "source": "pca.n_components_, X_pca.shape[1]",
      "execution_count": null,
      "outputs": []
    },
    {
      "metadata": {
        "_uuid": "dda6e461d4a59f6fbdedc808747f90dbb025fc4c",
        "_cell_guid": "59ecdb2f-1006-43f7-8489-6769241e4285"
      },
      "cell_type": "markdown",
      "source": "\n**Варианты:**\n- 56 \n- **65**\n- 66\n- 193"
    },
    {
      "metadata": {
        "_uuid": "faa5431e5298ad90b31f2adce97e1d40de627eff",
        "_cell_guid": "440f2bd3-6d9a-492f-bdad-c2649dd6388a",
        "collapsed": true,
        "trusted": false
      },
      "cell_type": "code",
      "source": "",
      "execution_count": null,
      "outputs": []
    },
    {
      "metadata": {
        "_uuid": "718171aa1ce83fb1a9cbc01853c7d77e7bdaa8da",
        "_cell_guid": "6acf63ca-3ebb-4309-9127-bbdc0d5e8c57"
      },
      "cell_type": "markdown",
      "source": "**Вопрос 2:**<br>\nСколько процентов дисперсии приходится на первую главную компоненту? Округлите до целых процентов. \n\n**Варианты:**\n- 45\n- **51**\n- 56\n- 61"
    },
    {
      "metadata": {
        "_uuid": "d6c3e3e9a2ca91016f93b7b00d0a4430328a70c3",
        "_cell_guid": "6f2e4c86-1124-4f47-b144-0bf19c32a497",
        "trusted": false,
        "collapsed": true
      },
      "cell_type": "code",
      "source": "f'{pca.explained_variance_ratio_[0]:.2%}'",
      "execution_count": null,
      "outputs": []
    },
    {
      "metadata": {
        "_uuid": "ebef121dffea2145c00133e4732ff4e9cfa52ae5",
        "_cell_guid": "eb3ca4ee-19ab-4c8b-bdd0-5ba9c3aaf18d"
      },
      "cell_type": "markdown",
      "source": "Визуализируйте данные в проекции на первые две главные компоненты."
    },
    {
      "metadata": {
        "_uuid": "e86d1582e10d8e177edcd3c802d6a64fa032f794",
        "_cell_guid": "b08a6621-769e-4667-81a4-a7ce4feba20e",
        "trusted": false,
        "collapsed": true
      },
      "cell_type": "code",
      "source": "X_new = pca.inverse_transform(X_pca)\nplt.scatter(X_pca[:,0], X_pca[:,1], c=y, s=20, cmap='viridis')\nplt.colorbar();",
      "execution_count": null,
      "outputs": []
    },
    {
      "metadata": {
        "_uuid": "3be27e333b0ea14b4fc0d48107bf42d79c97e8bd",
        "_cell_guid": "a6fd7899-167c-439e-87e4-f0ed4a35641f"
      },
      "cell_type": "markdown",
      "source": "**Вопрос 3:**<br>\nЕсли все получилось правильно, Вы увидите сколько-то кластеров, почти идеально отделенных друг от друга. Какие виды активности входят в эти кластеры?<br>\n\n**Ответ:**\n- 1 кластер: все 6 активностей\n- **2 кластера: (ходьба, подъем вверх по лестнице, спуск по лестнице) и (сидение, стояние, лежание)**\n- 3 кластера: (ходьба), (подъем вверх по лестнице, спуск по лестнице) и (сидение, стояние, лежание)\n- 6 кластеров"
    },
    {
      "metadata": {
        "_uuid": "4948adf14336b886908c01de718823450ed928a1",
        "_cell_guid": "307089d1-79a1-41be-94aa-619bf47b57ba"
      },
      "cell_type": "markdown",
      "source": "------------------------------"
    },
    {
      "metadata": {
        "_uuid": "fc44a7731cdaad4fe8005f58bbd5fccbfa56e2c7",
        "_cell_guid": "c1da168c-321a-40d7-9088-6fec21e88822"
      },
      "cell_type": "markdown",
      "source": "Сделайте кластеризацию данных методом `KMeans`, обучив модель на данных со сниженной за счет PCA размерностью. В данном случае мы подскажем, что нужно искать именно 6 кластеров, но в общем случае мы не будем знать, сколько кластеров надо искать.\n\nПараметры:\n\n- **n_clusters** = n_classes (число уникальных меток целевого класса)\n- **n_init** = 100\n- **random_state** = RANDOM_STATE (для воспроизводимости результата)\n\nОстальные параметры со значениями по умолчанию."
    },
    {
      "metadata": {
        "_uuid": "8a2c918d3df228b4f24284a4a8d419dbd3e54dbe",
        "_cell_guid": "f042a773-0caa-47bc-b7b3-1a35f03638fd",
        "trusted": false,
        "collapsed": true
      },
      "cell_type": "code",
      "source": "k_means = KMeans(n_clusters=n_classes, n_init=100, random_state=RANDOM_STATE)\nk_means.fit(X_pca)",
      "execution_count": null,
      "outputs": []
    },
    {
      "metadata": {
        "_uuid": "3592a9139af639b6817af7d4b0c4098eb4b85910",
        "_cell_guid": "bfce03ef-a216-494b-8368-d987ca95482f"
      },
      "cell_type": "markdown",
      "source": "Визуализируйте данные в проекции на первые две главные компоненты. Раскрасьте точки в соответствии с полученными метками кластеров."
    },
    {
      "metadata": {
        "_uuid": "757e040773f9194cfbf3e9e6aad84c8cd0197474",
        "_cell_guid": "ae35b80c-5fc6-4144-8a0e-06e5e6eebb62",
        "trusted": false,
        "collapsed": true
      },
      "cell_type": "code",
      "source": "plt.scatter(X_pca[:,0], X_pca[:,1], c=k_means.labels_, s=20,  cmap='viridis');\nplt.colorbar()",
      "execution_count": null,
      "outputs": []
    },
    {
      "metadata": {
        "_uuid": "e14df37d6d45b3733070f92d0858e50284fd2a38",
        "_cell_guid": "9d40addd-db69-4211-8b78-5d5ba1bedf66"
      },
      "cell_type": "markdown",
      "source": "Посмотрите на соответствие между метками кластеров и исходными метками классов и на то, какие виды активностей алгоритм `KMeans` путает."
    },
    {
      "metadata": {
        "_uuid": "51b47857769a82e91541f3f796bd09363f8b5360",
        "scrolled": true,
        "_cell_guid": "1eada8ed-e34f-4135-b1c7-71ab00b0cf7b",
        "trusted": false,
        "collapsed": true
      },
      "cell_type": "code",
      "source": "tab = pd.crosstab(y, k_means.labels_, margins=True)\ntab.index = ['ходьба', 'подъем вверх по лестнице', \n             'спуск по лестнице', 'сидение', 'стояние', 'лежание', 'все']\ntab.columns = ['cluster' + str(i + 1) for i in range(6)] + ['все']\ntab",
      "execution_count": null,
      "outputs": []
    },
    {
      "metadata": {
        "_uuid": "a0c7031377372cde7dfce53f9e81831e974d3a33",
        "_cell_guid": "d4821a23-bb3a-47a2-b6c1-7408e8fdca97"
      },
      "cell_type": "markdown",
      "source": "Видим, что каждому классу (т.е. каждой активности) соответствуют несколько кластеров. Давайте посмотрим на максимальную долю объектов в классе, отнесенных к какому-то одному кластеру. Это будет простой метрикой, характеризующей, насколько легко класс отделяется от других при кластеризации. \n\nПример: если для класса \"спуск по лестнице\", в котором 1406 объектов,  распределение кластеров такое:\n - кластер 1 – 900\n - кластер 3 – 500\n - кластер 6 – 6,\n \nто такая доля будет 900 / 1406 $\\approx$ 0.64.\n \n\n**Вопрос 4:**<br>\nКакой вид активности отделился от остальных лучше всего в терминах простой  метрики, описанной выше?<br>\n\n**Ответ:**\n- ходьба\n- стояние\n- спуск по лестнице\n- **нет верного ответа**"
    },
    {
      "metadata": {
        "_uuid": "baa5576225f0be9f474f375e39b8fe05d3cd8397",
        "_cell_guid": "0c8f3a2d-85b0-4568-9d16-7493fbf18d0d",
        "trusted": false,
        "collapsed": true
      },
      "cell_type": "code",
      "source": "np.max(tab[tab.columns[:-1]][:-1].values, axis=1) / tab[\"все\"][:-1].values",
      "execution_count": null,
      "outputs": []
    },
    {
      "metadata": {
        "_uuid": "b2ce76889e9356330b6208956af1047227f17c27",
        "_cell_guid": "e6dd0c75-d35f-4c2a-af14-273ff2b3b488"
      },
      "cell_type": "markdown",
      "source": "Видно, что kMeans не очень хорошо отличает только активности друг от друга. Используйте метод локтя, чтобы выбрать оптимальное количество кластеров. Параметры алгоритма и данные используем те же, что раньше, меняем только `n_clusters`."
    },
    {
      "metadata": {
        "_uuid": "2983261c43ca3a868bc476e94a3f30d32929f232",
        "scrolled": true,
        "_cell_guid": "51b9967f-88da-4f26-928d-bf3e93bdea96",
        "trusted": false,
        "collapsed": true
      },
      "cell_type": "code",
      "source": "inertia = []\nfor k in tqdm_notebook(range(1, n_classes + 1)):\n    kmeans = KMeans(random_state=17, n_init=100, n_clusters=k).fit(X_pca)\n    inertia.append(kmeans.inertia_)\nplt.plot(range(1, 7), inertia, marker='s')\nplt.xlabel('$k$')\nplt.ylabel('$J(C_k)$');",
      "execution_count": null,
      "outputs": []
    },
    {
      "metadata": {
        "_uuid": "d2020fe4a53b941bb861c7721c82d76dfd1749c2",
        "_cell_guid": "b863374e-adb2-451f-b083-f01534cc509f",
        "trusted": false,
        "collapsed": true
      },
      "cell_type": "code",
      "source": "for i in range(1, len(inertia) - 1):\n    D = np.abs(inertia[i] - inertia[i+1]) / np.abs(inertia[i-1] - inertia[i])\n    print(D) ",
      "execution_count": null,
      "outputs": []
    },
    {
      "metadata": {
        "_uuid": "12e273a5c93fb9e2d58634691aca5ffa17a4fa15",
        "_cell_guid": "a442fb52-6f86-4ba4-83f3-c6936586700c"
      },
      "cell_type": "markdown",
      "source": "**Вопрос 5:**<br>\nКакое количество кластеров оптимально выбрать, согласно методу локтя?<br>\n\n**Ответ:**\n- 1\n- 2\n- **3**\n- 4"
    },
    {
      "metadata": {
        "_uuid": "dec78f507d89b13d1871748515ee9a669ae76bd1",
        "_cell_guid": "63dc482a-a72d-4c62-a04e-92479f1c37ff"
      },
      "cell_type": "markdown",
      "source": "------------------------"
    },
    {
      "metadata": {
        "_uuid": "bc7b51793c2f00ef8985ca6d7d06f8a59782c695",
        "_cell_guid": "2297bfc6-87af-4a16-9a9a-acafb3e1a0ec"
      },
      "cell_type": "markdown",
      "source": "Попробуем еще один метод кластеризации, который описывался в статье – агломеративную кластеризацию."
    },
    {
      "metadata": {
        "_uuid": "27586854a4da75d57354f7a42c2633f7e9fe36cc",
        "_cell_guid": "a16b1f13-1b72-4b1a-888f-cef31e939d43",
        "collapsed": true,
        "trusted": false
      },
      "cell_type": "code",
      "source": "ag = AgglomerativeClustering(n_clusters=n_classes, \n                             linkage='ward').fit(X_pca)",
      "execution_count": null,
      "outputs": []
    },
    {
      "metadata": {
        "_uuid": "9e896bd1a7c3d162c83262ac64b9976c9cfebb5e",
        "_cell_guid": "4c0e2670-6a2c-4d84-902a-c1c8da9d23a0"
      },
      "cell_type": "markdown",
      "source": "Посчитайте Adjusted Rand Index (`sklearn.metrics`) для получившегося разбиения на кластеры и для `KMeans` с параметрами из задания к 4 вопросу."
    },
    {
      "metadata": {
        "_uuid": "c009dd8de6787378fa882e518f5009bef2b249fc",
        "_cell_guid": "56228eb2-0ec6-4a06-b629-e32d18c412a3",
        "collapsed": true,
        "trusted": false
      },
      "cell_type": "code",
      "source": "from sklearn.metrics import adjusted_rand_score",
      "execution_count": null,
      "outputs": []
    },
    {
      "metadata": {
        "_uuid": "458fb91b6f0e69e647f48a5ba2fa11ed34050a65",
        "_cell_guid": "5db16e51-f9e7-4c85-84ee-a1f68d04df2f",
        "trusted": false,
        "collapsed": true
      },
      "cell_type": "code",
      "source": "adjusted_rand_score(y, ag.labels_), adjusted_rand_score(y, KMeans(random_state=17, n_init=100, n_clusters=n_classes).fit(X_pca).labels_)",
      "execution_count": null,
      "outputs": []
    },
    {
      "metadata": {
        "_uuid": "35022f51abad540647bc09bccf7d1795ba3c9fec",
        "_cell_guid": "013773b8-f753-4a33-8cd7-dc156c94cdd4"
      },
      "cell_type": "markdown",
      "source": "**Вопрос 6:**<br>\nОтметьте все верные утверждения.<br>\n\n**Варианты:**\n- **Согласно ARI, KMeans справился с кластеризацией хуже, чем Agglomerative Clustering**\n- **Для ARI не имеет значения какие именно метки присвоены кластерам, имеет значение только разбиение объектов на кластеры**\n- **В случае случайного разбиения на кластеры ARI будет близок к нулю**"
    },
    {
      "metadata": {
        "_uuid": "85e8871b08f0acde1a6a03407dec48821b1c2396",
        "_cell_guid": "9a1f499d-20d6-4140-9cdb-ecaeea12921b"
      },
      "cell_type": "markdown",
      "source": "-------------------------------"
    },
    {
      "metadata": {
        "_uuid": "01ec0a63e5a8c067fb0b6e72eac8270bc631e91f",
        "_cell_guid": "f6adc23e-5736-4402-be63-bfaf4d7e3876"
      },
      "cell_type": "markdown",
      "source": "Можно заметить, что задача не очень хорошо решается именно как задача кластеризации, если выделять несколько кластеров (> 2). Давайте теперь решим задачу классификации, вспомнив, что данные у нас размечены.  \n\nДля классификации используйте метод опорных векторов – класс `sklearn.svm.LinearSVC`. Мы в курсе отдельно не рассматривали этот алгоритм, но он очень известен, почитать про него можно, например, в материалах Евгения Соколова –  [тут](https://github.com/esokolov/ml-course-msu/blob/master/ML16/lecture-notes/Sem11_linear.pdf). \n\nНастройте для `LinearSVC` гиперпараметр `C` с помощью `GridSearchCV`. \n\n- Обучите новый `StandardScaler` на обучающей выборке (со всеми исходными признаками), прмиените масштабирование к тестовой выборке\n- В `GridSearchCV` укажите  cv=3."
    },
    {
      "metadata": {
        "_uuid": "6ca78caeaef95842f82cf4cbff9f5d3751fa817e",
        "_cell_guid": "f86d5602-a5c9-45cd-972c-537acbe16313",
        "collapsed": true,
        "trusted": false
      },
      "cell_type": "code",
      "source": "scaler = StandardScaler()\nscaler.fit(X_train)\nX_train_scaled = scaler.transform(X_train)\nX_test_scaled = scaler.transform(X_test)",
      "execution_count": null,
      "outputs": []
    },
    {
      "metadata": {
        "_uuid": "59c7120a3c9c05b27cae9cdb9f70a959756f4753",
        "_cell_guid": "1b8af514-8ae6-4f3f-9f93-2dfc945e428f",
        "collapsed": true,
        "trusted": false
      },
      "cell_type": "code",
      "source": "svc = LinearSVC(random_state=RANDOM_STATE)\nsvc_params = {'C': [0.001, 0.01, 0.1, 1, 10]}",
      "execution_count": null,
      "outputs": []
    },
    {
      "metadata": {
        "_uuid": "449aec8c20a33088cde0739a51047cfa606c7897",
        "_cell_guid": "be5a3994-5143-445a-ab3b-93c7933176f8",
        "collapsed": true,
        "trusted": false
      },
      "cell_type": "code",
      "source": "grid_scv = GridSearchCV(estimator=svc, cv=3, param_grid=svc_params)\nbest_svc = grid_scv.fit(X_train_scaled, y_train)",
      "execution_count": null,
      "outputs": []
    },
    {
      "metadata": {
        "_uuid": "0dc73adcbbba22a6bf34999ad8914e6d83c8eaed",
        "_cell_guid": "a48e6c6c-1c54-420e-8aa9-795fa9137a51",
        "trusted": false,
        "collapsed": true
      },
      "cell_type": "code",
      "source": "best_svc.best_params_",
      "execution_count": null,
      "outputs": []
    },
    {
      "metadata": {
        "_uuid": "1c6546576ba427721c3bedd405df2046ae73e590",
        "_cell_guid": "fb5c66d6-cd73-439e-a24d-acd43e349770",
        "collapsed": true,
        "trusted": false
      },
      "cell_type": "code",
      "source": "best_without_pca = best_svc.best_score_",
      "execution_count": null,
      "outputs": []
    },
    {
      "metadata": {
        "_uuid": "66a8b19d936cf4f29110f1f76083236d45563093",
        "_cell_guid": "c2a48645-e9b8-4929-9905-b27674756ac8"
      },
      "cell_type": "markdown",
      "source": "**Вопрос 7**<br>\nКакое значение гиперпараметра `C` было выбрано лучшим по итогам кросс-валидации?<br>\n\n**Ответ:**\n- 0.001\n- 0.01\n- **0.1**\n- 1\n- 10"
    },
    {
      "metadata": {
        "_uuid": "cc78506d14f7c764bc7215e2def62b85e762d016",
        "_cell_guid": "da103eea-a77b-4715-b588-7f420cd69110",
        "collapsed": true,
        "trusted": false
      },
      "cell_type": "code",
      "source": "y_predicted = best_svc.predict(X_test_scaled)",
      "execution_count": null,
      "outputs": []
    },
    {
      "metadata": {
        "_uuid": "13fa3b7692742cd717b3ee1f84c0cfa2eb6a4da5",
        "_cell_guid": "470bf6e4-66f6-4b41-9e4d-4b56d3f99ddf",
        "trusted": false,
        "collapsed": true
      },
      "cell_type": "code",
      "source": "tab = pd.crosstab(y_test, y_predicted, margins=True)\ntab.index = ['ходьба', 'подъем вверх по лестнице', 'спуск по лестнице', \n             'сидение', 'стояние', 'лежание', 'все']\ntab.columns = tab.index\ntab",
      "execution_count": null,
      "outputs": []
    },
    {
      "metadata": {
        "_uuid": "7d2e9e9c4f68cd8454ed5fe249232776ee8138d6",
        "_cell_guid": "a90c46c1-6a58-430d-badb-49305188ebdc",
        "trusted": false,
        "collapsed": true
      },
      "cell_type": "code",
      "source": "list(metrics.precision_score(y_pred=y_predicted, y_true=y_test, average=None)), \\\nlist(metrics.recall_score(y_pred=y_predicted, y_true=y_test, average=None))\n",
      "execution_count": null,
      "outputs": []
    },
    {
      "metadata": {
        "_uuid": "a46f3b284bdc3f85e008a16be4ccaaff4ed93100",
        "_cell_guid": "e1026a4a-428c-4dd9-9d22-3debc284b65b"
      },
      "cell_type": "markdown",
      "source": "**Вопрос 8:**<br>\nКакой вид активности SVM определяет хуже всего в терминах точности? Полноты? <br>\n\n**Ответ:**\n- по точности – подъем вверх по лестнице, по полноте – лежание\n- по точности – лежание, по полноте – сидение\n- по точности – ходьба, по полноте – ходьба\n- **по точности – стояние, по полноте – сидение **"
    },
    {
      "metadata": {
        "_uuid": "cec9789cb2bcfb135223ad46a6069a756d716b3c",
        "_cell_guid": "edd3be09-8763-4a1d-87ba-f56b8c744467",
        "collapsed": true,
        "trusted": false
      },
      "cell_type": "code",
      "source": "pca.fit(X_train_scaled)\nX_pca_train = pca.transform(X_train_scaled)\nX_pca_test = pca.transform(X_test_scaled)",
      "execution_count": null,
      "outputs": []
    },
    {
      "metadata": {
        "_uuid": "9e7d5ad4b66b622033493eac4115f45b89bf72f9",
        "_cell_guid": "4151152c-cdab-4bed-9d86-bf89d1e10a83",
        "collapsed": true,
        "trusted": false
      },
      "cell_type": "code",
      "source": "best_svc = grid_scv.fit(X_pca_train, y_train)",
      "execution_count": null,
      "outputs": []
    },
    {
      "metadata": {
        "_uuid": "ebd9d619befd2c44c36c2b1bdc6c976476c03a5e",
        "scrolled": true,
        "_cell_guid": "d682bf6f-6f2b-4bf2-88b2-ce04bf4f47ab",
        "trusted": false,
        "collapsed": true
      },
      "cell_type": "code",
      "source": "best_svc.best_params_",
      "execution_count": null,
      "outputs": []
    },
    {
      "metadata": {
        "_uuid": "64f92ed8588b32d2b5988ba184b4bd5bd6fe09ac",
        "_cell_guid": "0e333426-9e08-4946-a64a-e6d477f288ed",
        "collapsed": true,
        "trusted": false
      },
      "cell_type": "code",
      "source": "best_with_pca = best_svc.best_score_",
      "execution_count": null,
      "outputs": []
    },
    {
      "metadata": {
        "_uuid": "4194c9508510d6aead32175286ad9777d48bee80",
        "_cell_guid": "bd049452-4d91-4f7f-9cc8-78ae68ac7494",
        "trusted": false,
        "collapsed": true
      },
      "cell_type": "code",
      "source": "best_without_pca - best_with_pca",
      "execution_count": null,
      "outputs": []
    },
    {
      "metadata": {
        "_uuid": "4ffcc770ff0bca49a0566dbff53ea16e0463a985",
        "_cell_guid": "031c50d0-3df1-4ade-a4df-9c5b685c3aef"
      },
      "cell_type": "markdown",
      "source": "Наконец, проделайте то же самое, что в 7 вопросе, только добавив PCA.\n\n- Используйте выборки `X_train_scaled` и `X_test_scaled`\n- Обучите тот же PCA, что раньше, на отмасшабированной обучающей выборке, примените преобразование к тестовой\n- Настройте гиперпараметр `C` на кросс-валидации по обучающей выборке с PCA-преобразованием. Вы заметите, насколько это проходит быстрее, чем раньше.\n\n**Вопрос 9:**<br>\nКакова разность между лучшим качеством (долей верных ответов) на кросс-валидации в случае всех 561 исходных признаков и во втором случае, когда применялся метод главных компонент? Округлите до целых процентов.<br>\n\n**Варианты:**\n- Качество одинаковое\n- 2%\n- **4% **\n- 10%\n- 20%\n"
    },
    {
      "metadata": {
        "_uuid": "572195bae5753c6b1aa5e1c41017e584dc4c40ff",
        "_cell_guid": "c867b21b-0669-4d40-b650-e76a66ae8b98"
      },
      "cell_type": "markdown",
      "source": "**Вопрос 10:**<br>\nВыберите все верные утверждения:\n\n**Варианты:**\n- Метод главных компонент в данном случае позволил уменьшить время обучения модели, при этом качество (доля верных ответов на кросс-валидации) очень пострадало, более чем на 10%\n- **PCA можно использовать для визуализации данных, однако для этой задачи есть и лучше подходящие методы, например, tSNE. Зато PCA имеет меньшую вычислительную сложность**\n- **PCA строит линейные комбинации исходных признаков, и в некоторых задачах они могут плохо интерпретироваться человеком**"
    },
    {
      "metadata": {
        "_uuid": "b6a817326cf093e7aad0eb232e3fc88d616a22b6",
        "_cell_guid": "f9b4701a-6e49-4d7f-b1e9-88ba5cb5b106",
        "collapsed": true,
        "trusted": false
      },
      "cell_type": "code",
      "source": "",
      "execution_count": null,
      "outputs": []
    },
    {
      "metadata": {
        "_uuid": "4e5bf1353a7e2964b1196b0d8576c87e7a86ad0d",
        "_cell_guid": "c562a936-e6e7-44c4-81b8-d0bdfd8cb115",
        "collapsed": true,
        "trusted": false
      },
      "cell_type": "code",
      "source": "",
      "execution_count": null,
      "outputs": []
    }
  ],
  "metadata": {
    "kernelspec": {
      "display_name": "Python 3",
      "language": "python",
      "name": "python3"
    },
    "anaconda-cloud": {},
    "language_info": {
      "file_extension": ".py",
      "mimetype": "text/x-python",
      "name": "python",
      "pygments_lexer": "ipython3",
      "codemirror_mode": {
        "version": 3,
        "name": "ipython"
      },
      "version": "3.6.4",
      "nbconvert_exporter": "python"
    }
  },
  "nbformat": 4,
  "nbformat_minor": 1
}