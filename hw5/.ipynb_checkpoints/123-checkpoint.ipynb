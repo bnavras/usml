{
 "cells": [
  {
   "cell_type": "markdown",
   "metadata": {
    "colab_type": "text",
    "id": "rNzjYuXuBz2p"
   },
   "source": [
    "<center>\n",
    "<img src=\"../../img/ods_stickers.jpg\">\n",
    "## Открытый курс по машинному обучению. Сессия № 3\n",
    "<center>\n",
    "Авторы материала: Виталий Радченко (YouScan) и Юрий Кашницкий (Mail.Ru Group).\n",
    "\n",
    "Материал распространяется на условиях лицензии [Creative Commons CC BY-NC-SA 4.0](https://creativecommons.org/licenses/by-nc-sa/4.0/). Можно использовать в любых целях (редактировать, поправлять и брать за основу), кроме коммерческих, но с обязательным упоминанием автора материала."
   ]
  },
  {
   "cell_type": "markdown",
   "metadata": {
    "colab_type": "text",
    "id": "wBhbtPN4Bz21"
   },
   "source": [
    "# <center> Домашнее задание №5\n",
    "## <center> Случайный лес и логистическая регрессия в задачах кредитного скоринга и классификации отзывов к фильмам"
   ]
  },
  {
   "cell_type": "markdown",
   "metadata": {
    "colab_type": "text",
    "id": "yckj_u7gBz28"
   },
   "source": [
    "#### Нашей главной задачей будет построение и настройка моделей для задач кредитного скоринга и анализа отзывов к фильмам. Заполните код в клетках (где написано \"Ваш код здесь\") и ответьте на вопросы в [веб-форме](https://docs.google.com/forms/d/1s17pqYJ1kUez7F_c0qHDLYpucL5XMs9QWK4JgTfxk9E/edit).\n",
    "\n",
    "Но для разминки решите первое задание.\n",
    "\n",
    "**<font color='red'>Задание 1.</font>** В зале суда есть 7 присяжных, каждый из них по отдельности с вероятностью 80% может правильно определить, виновен подсудимый или нет. С какой вероятностью присяжные все вместе вынесут правильный вердикт, если решение принимается большинством голосов?\n",
    "\n",
    "**<font color='red'>Варианты ответа:</font>**\n",
    "- 20.97%\n",
    "- 80.00%\n",
    "- 83.70%\n",
    "- <b>96.66%</b>\n",
    "\n",
    "Теперь перейдем непосредственно к машинному обучению.\n",
    "\n",
    "#### Данные по кредитному скорингу представлены следующим образом:\n",
    "\n",
    "##### Прогнозируемая  переменная\n",
    "* SeriousDlqin2yrs\t– Человек имел долгие просрочки выплат платежей за 2 года; бинарный признак\n",
    "\n",
    "##### Независимые признаки\n",
    "* age\t                         – Возраст заёмщика кредитных средств (число полных лет); тип – integer\n",
    "* NumberOfTime30-59DaysPastDueNotWorse\t– Количество раз, когда человек имел просрочку выплаты других кредитов более 30-59 дней (но не больше) в течение последних двух лет; тип -\tinteger\n",
    "* DebtRatio –\tЕжемесячный отчисления на задолжености(кредиты,алименты и т.д.)  / совокупный месячный доход \tpercentage; тип – float\n",
    "* MonthlyIncome\t– Месячный доход в долларах; тип –\tfloat\n",
    "* NumberOfTimes90DaysLate – Количество раз, когда человек имел просрочку выплаты других кредитов более 90 дней; тип –\tinteger\n",
    "* NumberOfTime60-89DaysPastDueNotWorse –\tКоличество раз, когда человек имел просрочку выплаты других кредитов более 60-89 дней (но не больше) в течение последних двух лет; тип – integer\n",
    "* NumberOfDependents – Число человек в семье кредитозаёмщика; тип –\tinteger"
   ]
  },
  {
   "cell_type": "code",
   "execution_count": 1,
   "metadata": {
    "colab": {
     "autoexec": {
      "startup": false,
      "wait_interval": 0
     }
    },
    "colab_type": "code",
    "id": "s4qeCJy8Bz3F"
   },
   "outputs": [],
   "source": [
    "import numpy as np\n",
    "import pandas as pd\n",
    "import matplotlib.pyplot as plt\n",
    "%matplotlib inline"
   ]
  },
  {
   "cell_type": "markdown",
   "metadata": {
    "colab_type": "text",
    "id": "lf_8rzHQBz3f"
   },
   "source": [
    "Напишем функцию, которая будет заменять значения NaN на медиану в каждом столбце таблицы. "
   ]
  },
  {
   "cell_type": "code",
   "execution_count": 2,
   "metadata": {
    "colab": {
     "autoexec": {
      "startup": false,
      "wait_interval": 0
     }
    },
    "colab_type": "code",
    "id": "QXN9dQijBz3q"
   },
   "outputs": [],
   "source": [
    "def impute_nan_with_median(table):\n",
    "    for col in table.columns:\n",
    "        table[col]= table[col].fillna(table[col].median())\n",
    "    return table   "
   ]
  },
  {
   "cell_type": "markdown",
   "metadata": {
    "colab_type": "text",
    "id": "QHLrKDySBz4F"
   },
   "source": [
    "Считываем данные"
   ]
  },
  {
   "cell_type": "code",
   "execution_count": 3,
   "metadata": {
    "colab": {
     "autoexec": {
      "startup": false,
      "wait_interval": 0
     },
     "base_uri": "https://localhost:8080/",
     "height": 85,
     "output_extras": [
      {
       "item_id": 2
      }
     ]
    },
    "colab_type": "code",
    "executionInfo": {
     "elapsed": 2353,
     "status": "ok",
     "timestamp": 1521328257524,
     "user": {
      "displayName": "Мария Еремина",
      "photoUrl": "https://lh3.googleusercontent.com/a/default-user=s128",
      "userId": "102608780694181127712"
     },
     "user_tz": -300
    },
    "id": "XCxR46vCCBbC",
    "outputId": "99df5bff-693e-4954-f7ff-a563f29d6590"
   },
   "outputs": [
    {
     "ename": "ModuleNotFoundError",
     "evalue": "No module named 'google'",
     "output_type": "error",
     "traceback": [
      "\u001b[0;31m---------------------------------------------------------------------------\u001b[0m",
      "\u001b[0;31mModuleNotFoundError\u001b[0m                       Traceback (most recent call last)",
      "\u001b[0;32m<ipython-input-3-245c0b93b4b0>\u001b[0m in \u001b[0;36m<module>\u001b[0;34m()\u001b[0m\n\u001b[1;32m      3\u001b[0m \u001b[0;32mfrom\u001b[0m \u001b[0mpydrive\u001b[0m\u001b[0;34m.\u001b[0m\u001b[0mauth\u001b[0m \u001b[0;32mimport\u001b[0m \u001b[0mGoogleAuth\u001b[0m\u001b[0;34m\u001b[0m\u001b[0m\n\u001b[1;32m      4\u001b[0m \u001b[0;32mfrom\u001b[0m \u001b[0mpydrive\u001b[0m\u001b[0;34m.\u001b[0m\u001b[0mdrive\u001b[0m \u001b[0;32mimport\u001b[0m \u001b[0mGoogleDrive\u001b[0m\u001b[0;34m\u001b[0m\u001b[0m\n\u001b[0;32m----> 5\u001b[0;31m \u001b[0;32mfrom\u001b[0m \u001b[0mgoogle\u001b[0m\u001b[0;34m.\u001b[0m\u001b[0mcolab\u001b[0m \u001b[0;32mimport\u001b[0m \u001b[0mauth\u001b[0m\u001b[0;34m\u001b[0m\u001b[0m\n\u001b[0m\u001b[1;32m      6\u001b[0m \u001b[0;32mfrom\u001b[0m \u001b[0moauth2client\u001b[0m\u001b[0;34m.\u001b[0m\u001b[0mclient\u001b[0m \u001b[0;32mimport\u001b[0m \u001b[0mGoogleCredentials\u001b[0m\u001b[0;34m\u001b[0m\u001b[0m\n\u001b[1;32m      7\u001b[0m \u001b[0;34m\u001b[0m\u001b[0m\n",
      "\u001b[0;31mModuleNotFoundError\u001b[0m: No module named 'google'"
     ]
    }
   ],
   "source": [
    "!pip install -U -q PyDrive\n",
    "import os\n",
    "from pydrive.auth import GoogleAuth\n",
    "from pydrive.drive import GoogleDrive\n",
    "from google.colab import auth\n",
    "from oauth2client.client import GoogleCredentials\n",
    "\n",
    "# 1. Authenticate and create the PyDrive client.\n",
    "auth.authenticate_user()\n",
    "gauth = GoogleAuth()\n",
    "gauth.credentials = GoogleCredentials.get_application_default()\n",
    "drive = GoogleDrive(gauth)\n",
    "\n",
    "# choose a local (colab) directory to store the data.\n",
    "local_download_path = os.path.expanduser('~/data')\n",
    "try:\n",
    "  os.makedirs(local_download_path)\n",
    "except: pass\n",
    "\n",
    "# 2. Auto-iterate using the query syntax\n",
    "#    https://developers.google.com/drive/v2/web/search-parameters\n",
    "file_list = drive.ListFile(\n",
    "    {'q': \"'1F-AJtp6KeEnDCYCpcWNfelHDNSzAHe1j' in parents\"}).GetList()\n",
    "\n",
    "csv = []\n",
    "for f in file_list:\n",
    "  # 3. Create & download by id.\n",
    "  print('title: %s, id: %s' % (f['title'], f['id']))\n",
    "  fname = os.path.join(local_download_path, f['title'])\n",
    "  print('downloading to {}'.format(fname))\n",
    "  f_ = drive.CreateFile({'id': f['id']})\n",
    "  f_.GetContentFile(fname)\n",
    "  csv.append(fname)"
   ]
  },
  {
   "cell_type": "code",
   "execution_count": 21,
   "metadata": {
    "colab": {
     "autoexec": {
      "startup": false,
      "wait_interval": 0
     },
     "base_uri": "https://localhost:8080/",
     "height": 221,
     "output_extras": [
      {
       "item_id": 1
      }
     ]
    },
    "colab_type": "code",
    "executionInfo": {
     "elapsed": 645,
     "status": "ok",
     "timestamp": 1521328600160,
     "user": {
      "displayName": "Мария Еремина",
      "photoUrl": "https://lh3.googleusercontent.com/a/default-user=s128",
      "userId": "102608780694181127712"
     },
     "user_tz": -300
    },
    "id": "wgShjaDUBz4K",
    "outputId": "cb4768d8-e7f5-4c9c-85eb-f8e2246cca7d"
   },
   "outputs": [
    {
     "data": {
      "text/html": [
       "<div>\n",
       "<style scoped>\n",
       "    .dataframe tbody tr th:only-of-type {\n",
       "        vertical-align: middle;\n",
       "    }\n",
       "\n",
       "    .dataframe tbody tr th {\n",
       "        vertical-align: top;\n",
       "    }\n",
       "\n",
       "    .dataframe thead th {\n",
       "        text-align: right;\n",
       "    }\n",
       "</style>\n",
       "<table border=\"1\" class=\"dataframe\">\n",
       "  <thead>\n",
       "    <tr style=\"text-align: right;\">\n",
       "      <th></th>\n",
       "      <th>SeriousDlqin2yrs</th>\n",
       "      <th>age</th>\n",
       "      <th>NumberOfTime30-59DaysPastDueNotWorse</th>\n",
       "      <th>DebtRatio</th>\n",
       "      <th>NumberOfTimes90DaysLate</th>\n",
       "      <th>NumberOfTime60-89DaysPastDueNotWorse</th>\n",
       "      <th>MonthlyIncome</th>\n",
       "      <th>NumberOfDependents</th>\n",
       "    </tr>\n",
       "  </thead>\n",
       "  <tbody>\n",
       "    <tr>\n",
       "      <th>0</th>\n",
       "      <td>0</td>\n",
       "      <td>64</td>\n",
       "      <td>0</td>\n",
       "      <td>0.249908</td>\n",
       "      <td>0</td>\n",
       "      <td>0</td>\n",
       "      <td>8158.0</td>\n",
       "      <td>0.0</td>\n",
       "    </tr>\n",
       "    <tr>\n",
       "      <th>1</th>\n",
       "      <td>0</td>\n",
       "      <td>58</td>\n",
       "      <td>0</td>\n",
       "      <td>3870.000000</td>\n",
       "      <td>0</td>\n",
       "      <td>0</td>\n",
       "      <td>NaN</td>\n",
       "      <td>0.0</td>\n",
       "    </tr>\n",
       "    <tr>\n",
       "      <th>2</th>\n",
       "      <td>0</td>\n",
       "      <td>41</td>\n",
       "      <td>0</td>\n",
       "      <td>0.456127</td>\n",
       "      <td>0</td>\n",
       "      <td>0</td>\n",
       "      <td>6666.0</td>\n",
       "      <td>0.0</td>\n",
       "    </tr>\n",
       "    <tr>\n",
       "      <th>3</th>\n",
       "      <td>0</td>\n",
       "      <td>43</td>\n",
       "      <td>0</td>\n",
       "      <td>0.000190</td>\n",
       "      <td>0</td>\n",
       "      <td>0</td>\n",
       "      <td>10500.0</td>\n",
       "      <td>2.0</td>\n",
       "    </tr>\n",
       "    <tr>\n",
       "      <th>4</th>\n",
       "      <td>1</td>\n",
       "      <td>49</td>\n",
       "      <td>0</td>\n",
       "      <td>0.271820</td>\n",
       "      <td>0</td>\n",
       "      <td>0</td>\n",
       "      <td>400.0</td>\n",
       "      <td>0.0</td>\n",
       "    </tr>\n",
       "  </tbody>\n",
       "</table>\n",
       "</div>"
      ],
      "text/plain": [
       "   SeriousDlqin2yrs  age  NumberOfTime30-59DaysPastDueNotWorse    DebtRatio  \\\n",
       "0                 0   64                                     0     0.249908   \n",
       "1                 0   58                                     0  3870.000000   \n",
       "2                 0   41                                     0     0.456127   \n",
       "3                 0   43                                     0     0.000190   \n",
       "4                 1   49                                     0     0.271820   \n",
       "\n",
       "   NumberOfTimes90DaysLate  NumberOfTime60-89DaysPastDueNotWorse  \\\n",
       "0                        0                                     0   \n",
       "1                        0                                     0   \n",
       "2                        0                                     0   \n",
       "3                        0                                     0   \n",
       "4                        0                                     0   \n",
       "\n",
       "   MonthlyIncome  NumberOfDependents  \n",
       "0         8158.0                 0.0  \n",
       "1            NaN                 0.0  \n",
       "2         6666.0                 0.0  \n",
       "3        10500.0                 2.0  \n",
       "4          400.0                 0.0  "
      ]
     },
     "execution_count": 21,
     "metadata": {
      "tags": []
     },
     "output_type": "execute_result"
    }
   ],
   "source": [
    "data = pd.read_csv(csv[1], sep=\";\")\n",
    "data.head()"
   ]
  },
  {
   "cell_type": "markdown",
   "metadata": {
    "colab_type": "text",
    "id": "EBQxKC8iBz40"
   },
   "source": [
    "Рассмотрим типы считанных данных"
   ]
  },
  {
   "cell_type": "code",
   "execution_count": 22,
   "metadata": {
    "colab": {
     "autoexec": {
      "startup": false,
      "wait_interval": 0
     },
     "base_uri": "https://localhost:8080/",
     "height": 170,
     "output_extras": [
      {
       "item_id": 1
      }
     ]
    },
    "colab_type": "code",
    "executionInfo": {
     "elapsed": 614,
     "status": "ok",
     "timestamp": 1521328604050,
     "user": {
      "displayName": "Мария Еремина",
      "photoUrl": "https://lh3.googleusercontent.com/a/default-user=s128",
      "userId": "102608780694181127712"
     },
     "user_tz": -300
    },
    "id": "6THl0JWABz49",
    "outputId": "f605ee65-d92f-459f-d57e-847cdfa6d531"
   },
   "outputs": [
    {
     "data": {
      "text/plain": [
       "SeriousDlqin2yrs                          int64\n",
       "age                                       int64\n",
       "NumberOfTime30-59DaysPastDueNotWorse      int64\n",
       "DebtRatio                               float64\n",
       "NumberOfTimes90DaysLate                   int64\n",
       "NumberOfTime60-89DaysPastDueNotWorse      int64\n",
       "MonthlyIncome                           float64\n",
       "NumberOfDependents                      float64\n",
       "dtype: object"
      ]
     },
     "execution_count": 22,
     "metadata": {
      "tags": []
     },
     "output_type": "execute_result"
    }
   ],
   "source": [
    "data.dtypes"
   ]
  },
  {
   "cell_type": "markdown",
   "metadata": {
    "colab_type": "text",
    "id": "T_KJcyFvBz5d"
   },
   "source": [
    "Посмотрим на распределение классов в зависимой переменной"
   ]
  },
  {
   "cell_type": "code",
   "execution_count": 23,
   "metadata": {
    "colab": {
     "autoexec": {
      "startup": false,
      "wait_interval": 0
     },
     "base_uri": "https://localhost:8080/",
     "height": 362,
     "output_extras": [
      {
       "item_id": 1
      },
      {
       "item_id": 2
      },
      {
       "item_id": 3
      }
     ]
    },
    "colab_type": "code",
    "executionInfo": {
     "elapsed": 632,
     "status": "ok",
     "timestamp": 1521328606080,
     "user": {
      "displayName": "Мария Еремина",
      "photoUrl": "https://lh3.googleusercontent.com/a/default-user=s128",
      "userId": "102608780694181127712"
     },
     "user_tz": -300
    },
    "id": "rf2Vv-7-Bz5l",
    "outputId": "cfd908e2-99e0-49c3-d758-bb1adb904718"
   },
   "outputs": [
    {
     "name": "stdout",
     "output_type": "stream",
     "text": [
      "Distribution of target:\n"
     ]
    },
    {
     "data": {
      "text/plain": [
       "0    0.777511\n",
       "1    0.222489\n",
       "Name: SeriousDlqin2yrs, dtype: float64"
      ]
     },
     "execution_count": 23,
     "metadata": {
      "tags": []
     },
     "output_type": "execute_result"
    },
    {
     "data": {
      "image/png": "[encoded data removed]",
      "text/plain": [
       "<matplotlib.figure.Figure at 0x7f0c26b3b748>"
      ]
     },
     "metadata": {
      "tags": []
     },
     "output_type": "display_data"
    }
   ],
   "source": [
    "ax = data['SeriousDlqin2yrs'].hist(orientation='horizontal', color='red')\n",
    "ax.set_xlabel(\"number_of_observations\")\n",
    "ax.set_ylabel(\"unique_value\")\n",
    "ax.set_title(\"Target distribution\")\n",
    "\n",
    "print('Distribution of target:')\n",
    "data['SeriousDlqin2yrs'].value_counts() / data.shape[0]"
   ]
  },
  {
   "cell_type": "markdown",
   "metadata": {
    "colab_type": "text",
    "id": "gOlJcHFxBz6B"
   },
   "source": [
    "Выберем названия всех признаков, кроме прогнозируемого"
   ]
  },
  {
   "cell_type": "code",
   "execution_count": 24,
   "metadata": {
    "colab": {
     "autoexec": {
      "startup": false,
      "wait_interval": 0
     },
     "base_uri": "https://localhost:8080/",
     "height": 136,
     "output_extras": [
      {
       "item_id": 1
      }
     ]
    },
    "colab_type": "code",
    "executionInfo": {
     "elapsed": 695,
     "status": "ok",
     "timestamp": 1521328608440,
     "user": {
      "displayName": "Мария Еремина",
      "photoUrl": "https://lh3.googleusercontent.com/a/default-user=s128",
      "userId": "102608780694181127712"
     },
     "user_tz": -300
    },
    "id": "4WAr3WkoBz6H",
    "outputId": "bd75d830-0a1e-42c9-d1d0-1ff0746aa684"
   },
   "outputs": [
    {
     "data": {
      "text/plain": [
       "['age',\n",
       " 'NumberOfTime30-59DaysPastDueNotWorse',\n",
       " 'DebtRatio',\n",
       " 'NumberOfTimes90DaysLate',\n",
       " 'NumberOfTime60-89DaysPastDueNotWorse',\n",
       " 'MonthlyIncome',\n",
       " 'NumberOfDependents']"
      ]
     },
     "execution_count": 24,
     "metadata": {
      "tags": []
     },
     "output_type": "execute_result"
    }
   ],
   "source": [
    "independent_columns_names = data.columns.values\n",
    "independent_columns_names = [x for x in data if x != 'SeriousDlqin2yrs']\n",
    "independent_columns_names"
   ]
  },
  {
   "cell_type": "markdown",
   "metadata": {
    "colab_type": "text",
    "id": "k_uz70ABBz6-"
   },
   "source": [
    "Применяем функцию, заменяющую все значения NaN на медианное значение соответствующего столбца."
   ]
  },
  {
   "cell_type": "code",
   "execution_count": 0,
   "metadata": {
    "colab": {
     "autoexec": {
      "startup": false,
      "wait_interval": 0
     }
    },
    "colab_type": "code",
    "id": "4r6erlw8Bz7C"
   },
   "outputs": [],
   "source": [
    "table = impute_nan_with_median(data)"
   ]
  },
  {
   "cell_type": "markdown",
   "metadata": {
    "colab_type": "text",
    "id": "XkJ1I0owBz7h"
   },
   "source": [
    "Разделяем целевой признак и все остальные – получаем обучающую выборку. "
   ]
  },
  {
   "cell_type": "code",
   "execution_count": 0,
   "metadata": {
    "colab": {
     "autoexec": {
      "startup": false,
      "wait_interval": 0
     }
    },
    "colab_type": "code",
    "id": "0WTEf_fMBz7m"
   },
   "outputs": [],
   "source": [
    "X = table[independent_columns_names]\n",
    "y = table['SeriousDlqin2yrs']"
   ]
  },
  {
   "cell_type": "markdown",
   "metadata": {
    "colab_type": "text",
    "id": "qKNEUCRpBz8D"
   },
   "source": [
    "Выведем версии основных библиотек – результат `GridSearchCV`, например, может отличаться в разных версиях `sklearn` даже при фиксированном `random_state`."
   ]
  },
  {
   "cell_type": "code",
   "execution_count": 0,
   "metadata": {
    "colab": {
     "autoexec": {
      "startup": false,
      "wait_interval": 0
     },
     "output_extras": [
      {}
     ]
    },
    "colab_type": "code",
    "id": "l7_6lUYJBz8o",
    "outputId": "ab14279a-1fec-4e68-8c84-9c3609e2a2af"
   },
   "outputs": [
    {
     "name": "stdout",
     "output_type": "stream",
     "text": [
      "CPython 3.6.4\n",
      "IPython 6.2.1\n",
      "\n",
      "numpy 1.14.0\n",
      "scipy 1.0.0\n",
      "pandas 0.22.0\n",
      "matplotlib 2.1.2\n",
      "sklearn 0.19.1\n",
      "\n",
      "compiler   : MSC v.1900 64 bit (AMD64)\n",
      "system     : Windows\n",
      "release    : 10\n",
      "machine    : AMD64\n",
      "processor  : Intel64 Family 6 Model 58 Stepping 9, GenuineIntel\n",
      "CPU cores  : 4\n",
      "interpreter: 64bit\n",
      "Git hash   : 0e69a46c7eff4143a48ed3e4973b15fde417197a\n"
     ]
    }
   ],
   "source": [
    "%watermark -v -m -p numpy,scipy,pandas,matplotlib,sklearn -g"
   ]
  },
  {
   "cell_type": "markdown",
   "metadata": {
    "colab_type": "text",
    "id": "JMqgsajSBz9n"
   },
   "source": [
    "# Бутстрэп\n",
    "\n",
    "**<font color='red'>Задание 2.</font>** Сделайте интервальную оценку (на основе бутстрэпа) среднего дохода (MonthlyIncome) клиентов, просрочивших выплату кредита, и отдельно – для вовремя заплативших. Стройте 90% доверительный интервал. Найдите разницу между нижней границей полученного интервала для не просрочивших кредит и верхней границей – для просрочивших. \n",
    "То есть вас просят построить 90%-ые интервалы для дохода \"хороших\" клиентов $[good\\_income\\_lower, good\\_income\\_upper]$ и для \"плохих\" – $[bad\\_income\\_lower, bad\\_income\\_upper]$ и найти разницу $good\\_income\\_lower - bad\\_income\\_upper$.\n",
    "\n",
    "Используйте пример из [статьи](https://habrahabr.ru/company/ods/blog/324402/). Поставьте `np.random.seed(17)`. Округлите ответ до целых."
   ]
  },
  {
   "cell_type": "markdown",
   "metadata": {
    "colab_type": "text",
    "id": "ihRTMlPWBz97"
   },
   "source": [
    "**<font color='red'>Варианты ответа:</font>**\n",
    "- 345\n",
    "- 425\n",
    "- 585\n",
    "- <b>655</b>"
   ]
  },
  {
   "cell_type": "code",
   "execution_count": 28,
   "metadata": {
    "colab": {
     "autoexec": {
      "startup": false,
      "wait_interval": 0
     },
     "base_uri": "https://localhost:8080/",
     "height": 34,
     "output_extras": [
      {
       "item_id": 1
      }
     ]
    },
    "colab_type": "code",
    "executionInfo": {
     "elapsed": 2056,
     "status": "ok",
     "timestamp": 1521328628422,
     "user": {
      "displayName": "Мария Еремина",
      "photoUrl": "https://lh3.googleusercontent.com/a/default-user=s128",
      "userId": "102608780694181127712"
     },
     "user_tz": -300
    },
    "id": "qSLNiaQtBz-Z",
    "outputId": "cbab165b-913a-4731-a0e6-ded188c54991"
   },
   "outputs": [
    {
     "name": "stdout",
     "output_type": "stream",
     "text": [
      "655.0\n"
     ]
    }
   ],
   "source": [
    "def get_bootstrap_samples(data, n_samples):\n",
    "    np.random.seed(17)\n",
    "    indices = np.random.randint(0, len(data), (n_samples, len(data)))\n",
    "    samples = data[indices]\n",
    "    return samples\n",
    "def stat_intervals(stat, alpha):\n",
    "    boundaries = np.percentile(stat, [100 * alpha / 2., 100 * (1 - alpha / 2.)])\n",
    "    return boundaries\n",
    "\n",
    "good = table[table['SeriousDlqin2yrs'] == 0]['MonthlyIncome'].values\n",
    "bad= table[table['SeriousDlqin2yrs'] == 1]['MonthlyIncome'].values\n",
    "\n",
    "good_mean_scores = [np.mean(sample) \n",
    "                       for sample in get_bootstrap_samples(good, 1000)]\n",
    "bad_mean_scores = [np.mean(sample) \n",
    "                       for sample in get_bootstrap_samples(bad, 1000)]\n",
    "\n",
    "answer = stat_intervals(good_mean_scores, 0.10)[0] - stat_intervals(bad_mean_scores, 0.10)[1]\n",
    "print(round(answer))"
   ]
  },
  {
   "cell_type": "markdown",
   "metadata": {
    "colab_type": "text",
    "id": "yPePYCAPBz-t"
   },
   "source": [
    "# Дерево решений, подбор гиперпараметров"
   ]
  },
  {
   "cell_type": "markdown",
   "metadata": {
    "colab_type": "text",
    "id": "D1NYJnykBz-w"
   },
   "source": [
    "Одной из основных метрик качества модели является площадь под ROC-кривой. Значения ROC-AUC лежат от 0 до 1. Чем ближе значение ROC-AUC к 1, тем качественнее происходит классификация моделью.\n",
    "\n",
    "Найдите с помощью `GridSearchCV` гиперпараметры `DecisionTreeClassifier`, максимизирующие площадь под ROC-кривой. "
   ]
  },
  {
   "cell_type": "code",
   "execution_count": 0,
   "metadata": {
    "colab": {
     "autoexec": {
      "startup": false,
      "wait_interval": 0
     }
    },
    "colab_type": "code",
    "id": "kUmYWsK7Bz-0"
   },
   "outputs": [],
   "source": [
    "from sklearn.tree import DecisionTreeClassifier\n",
    "from sklearn.model_selection import GridSearchCV, StratifiedKFold"
   ]
  },
  {
   "cell_type": "markdown",
   "metadata": {
    "colab_type": "text",
    "id": "MBrDi2YvBz-8"
   },
   "source": [
    "Используем модуль `DecisionTreeClassifier` для построения дерева решений. Из-за несбалансированности классов  в целевом признаке добавляем параметр балансировки. Используем также параметр `random_state=17` для воспроизводимости результатов."
   ]
  },
  {
   "cell_type": "code",
   "execution_count": 0,
   "metadata": {
    "colab": {
     "autoexec": {
      "startup": false,
      "wait_interval": 0
     }
    },
    "colab_type": "code",
    "id": "OaDsj5QyBz--"
   },
   "outputs": [],
   "source": [
    "dt = DecisionTreeClassifier(random_state=17, class_weight='balanced')"
   ]
  },
  {
   "cell_type": "markdown",
   "metadata": {
    "colab_type": "text",
    "id": "rDiuasTmBz_P"
   },
   "source": [
    "Перебирать будем вот такие значения гиперпараметров:"
   ]
  },
  {
   "cell_type": "code",
   "execution_count": 0,
   "metadata": {
    "colab": {
     "autoexec": {
      "startup": false,
      "wait_interval": 0
     }
    },
    "colab_type": "code",
    "id": "maajUSDEBz_U"
   },
   "outputs": [],
   "source": [
    "max_depth_values = [5, 6, 7, 8, 9]\n",
    "max_features_values = [4, 5, 6, 7]\n",
    "tree_params = {'max_depth': max_depth_values,\n",
    "               'max_features': max_features_values}"
   ]
  },
  {
   "cell_type": "markdown",
   "metadata": {
    "colab_type": "text",
    "id": "o026RnHJBz_g"
   },
   "source": [
    "Зафиксируем кросс-валидацию: стратифицированная, 5 разбиений с перемешиванием, не забываем про `random_state`."
   ]
  },
  {
   "cell_type": "code",
   "execution_count": 0,
   "metadata": {
    "colab": {
     "autoexec": {
      "startup": false,
      "wait_interval": 0
     }
    },
    "colab_type": "code",
    "id": "fVd0VCX3Bz_m"
   },
   "outputs": [],
   "source": [
    "skf = StratifiedKFold(n_splits=5, shuffle=True, random_state=17)"
   ]
  },
  {
   "cell_type": "markdown",
   "metadata": {
    "colab_type": "text",
    "id": "kp-geC4cBz_u"
   },
   "source": [
    "**<font color='red'>Задание 3.</font>**\n",
    "Сделайте GridSearch с метрикой ROC AUC по гиперпараметрам из словаря `tree_params`. Какое максимальное значение ROC AUC получилось (округлите до 2 знаков после разделителя)? Назовем кросс-валидацию устойчивой, если стандартное отклонение метрики качества на кросс-валидации меньше 1%. Получилась ли кросс-валидация устойчивой при оптимальных сочетаниях гиперпараметров (т.е. обеспечивающих максимум среднего значения ROC AUC на кросс-валидации)?"
   ]
  },
  {
   "cell_type": "markdown",
   "metadata": {
    "colab_type": "text",
    "id": "AUH_hvBpBz_w"
   },
   "source": [
    "**<font color='red'>Варианты ответа:</font>**\n",
    "- 0.82, нет\n",
    "- 0.84, нет\n",
    "- <b>0.82, да</b>\n",
    "- 0.84, да"
   ]
  },
  {
   "cell_type": "code",
   "execution_count": 0,
   "metadata": {
    "colab": {
     "autoexec": {
      "startup": false,
      "wait_interval": 0
     }
    },
    "colab_type": "code",
    "id": "hS0dXdshBz_0"
   },
   "outputs": [],
   "source": [
    "grid = GridSearchCV(dt, tree_params, cv=skf, return_train_score=True, scoring='roc_auc').fit(X, y)"
   ]
  },
  {
   "cell_type": "code",
   "execution_count": 34,
   "metadata": {
    "colab": {
     "autoexec": {
      "startup": false,
      "wait_interval": 0
     },
     "base_uri": "https://localhost:8080/",
     "height": 34,
     "output_extras": [
      {
       "item_id": 1
      }
     ]
    },
    "colab_type": "code",
    "executionInfo": {
     "elapsed": 644,
     "status": "ok",
     "timestamp": 1521328659729,
     "user": {
      "displayName": "Мария Еремина",
      "photoUrl": "https://lh3.googleusercontent.com/a/default-user=s128",
      "userId": "102608780694181127712"
     },
     "user_tz": -300
    },
    "id": "zUE2Fgi3B0AA",
    "outputId": "c6d0b26c-ca3b-4c76-e5ae-e2f0fdb91551"
   },
   "outputs": [
    {
     "name": "stdout",
     "output_type": "stream",
     "text": [
      "0.82 [ True]\n"
     ]
    }
   ],
   "source": [
    "results = pd.DataFrame(grid.cv_results_)\n",
    "std = results[results['params'] == grid.best_params_]['std_test_score'] * 100\n",
    "print(round(grid.best_score_, 2), std.values < 1)"
   ]
  },
  {
   "cell_type": "markdown",
   "metadata": {
    "colab_type": "text",
    "id": "_hkvMStNB0AT"
   },
   "source": [
    "# Простая реализация случайного леса"
   ]
  },
  {
   "cell_type": "markdown",
   "metadata": {
    "colab_type": "text",
    "id": "nSnjdMTrB0Ad"
   },
   "source": [
    "**<font color='red'>Задание 4.</font>**\n",
    "Реализуйте свой собственный случайный лес с помощью `DecisionTreeClassifier` с лучшими параметрами из прошлого задания. В нашем лесу будет 10 деревьев, предсказанные вероятности которых вам нужно усреднить. \n",
    "\n",
    "Краткая спецификация: \n",
    " - Используйте основу ниже\n",
    " - В методе `fit` в цикле (`i` от 0 до `n_estimators-1`) фиксируйте seed, равный (`random_state + i`). Почему именно так – неважно, главное чтоб на каждой итерации seed был новый, при этом все значения можно было бы воспроизвести\n",
    " - Зафиксировав seed, выберите **без замещения** `max_features` признаков, сохраните список выбранных id признаков в `self.feat_ids_by_tree`\n",
    " - Также сделайте bootstrap-выборку (т.е. **с замещением**) из множества id объектов \n",
    " - Обучите дерево с теми же `max_depth`, `max_features` и `random_state`, что и у `RandomForestClassifierCustom` на выборке с нужным подмножеством объектов и признаков\n",
    " - Метод `fit` возвращает текущий экземпляр класса `RandomForestClassifierCustom`, то есть `self`\n",
    " - В методе `predict_proba` опять нужен цикл по всем деревьям. У тестовой выборки нужно взять те признаки, на которых соответсвующее дерево обучалось, и сделать прогноз вероятностей (`predict_proba` уже для дерева). Метод должен вернуть усреднение прогнозов по всем деревьям.\n",
    "\n",
    "Проведите кросс-валидацию. Какое получилось среднее значение ROC AUC на кросс-валидации? Выберите самое близкое значение.\n",
    "\n",
    "**<font color='red'>Варианты ответа:</font>**\n",
    "- 0.823\n",
    "- <b>0.833</b>\n",
    "- 0.843\n",
    "- 0.853"
   ]
  },
  {
   "cell_type": "code",
   "execution_count": 0,
   "metadata": {
    "colab": {
     "autoexec": {
      "startup": false,
      "wait_interval": 0
     }
    },
    "colab_type": "code",
    "id": "dNG6GYmYwNTO"
   },
   "outputs": [],
   "source": [
    "from sklearn.model_selection import cross_val_score\n",
    "\n",
    "from sklearn.base import BaseEstimator\n",
    "\n",
    "class RandomForestClassifierCustom(BaseEstimator):\n",
    "    def __init__(self, n_estimators=10, max_depth=3, max_features=10, random_state=17):\n",
    "        self.n_estimators = n_estimators\n",
    "        self.max_depth = max_depth\n",
    "        self.max_features = max_features\n",
    "        self.random_state = random_state\n",
    "        # в данном списке будем хранить отдельные деревья\n",
    "        self.trees = []\n",
    "        # тут будем хранить списки индексов признаков, на которых обучалось каждое дерево \n",
    "        self.feat_ids_by_tree = []\n",
    "        \n",
    "    def fit(self, X, y):\n",
    "        self.max_features = max(self.max_features, len(X.columns))        \n",
    "        for i in range(0, self.n_estimators - 1):\n",
    "            features = X.columns\n",
    "            np.random.seed(self.random_state + i)\n",
    "            features_indexes = np.random.choice(len(features), \n",
    "                                                self.max_features, \n",
    "                                                replace = False)                            \n",
    "            self.feat_ids_by_tree.append(features_indexes)\n",
    "            indexes = np.random.randint(0, X.shape[0], X.shape[0])\n",
    "            X_sample = X.iloc[indexes, self.feat_ids_by_tree[i]]\n",
    "            y_sample = y[indexes]\n",
    "            tree = DecisionTreeClassifier(max_depth=self.max_depth, \n",
    "                                          random_state=self.random_state, \n",
    "                                          max_features=self.max_features).fit(X_sample, y_sample)\n",
    "            self.trees.append(tree)\n",
    "        return self\n",
    "      \n",
    "    def predict_proba(self, X):\n",
    "        mean = 0\n",
    "        for i in range(0, self.n_estimators - 1):\n",
    "            X_sample = X.iloc[:, self.feat_ids_by_tree[i]]\n",
    "            mean += np.array(self.trees[i].predict_proba(X_sample))\n",
    "        return mean / self.n_estimators"
   ]
  },
  {
   "cell_type": "code",
   "execution_count": 36,
   "metadata": {
    "colab": {
     "autoexec": {
      "startup": false,
      "wait_interval": 0
     },
     "base_uri": "https://localhost:8080/",
     "height": 34,
     "output_extras": [
      {
       "item_id": 1
      }
     ]
    },
    "colab_type": "code",
    "executionInfo": {
     "elapsed": 3821,
     "status": "ok",
     "timestamp": 1521328668913,
     "user": {
      "displayName": "Мария Еремина",
      "photoUrl": "https://lh3.googleusercontent.com/a/default-user=s128",
      "userId": "102608780694181127712"
     },
     "user_tz": -300
    },
    "id": "RK1fR5VQwgAp",
    "outputId": "332b6899-c2e9-4809-9d55-9c5f1b53c9bf"
   },
   "outputs": [
    {
     "data": {
      "text/plain": [
       "0.831"
      ]
     },
     "execution_count": 36,
     "metadata": {
      "tags": []
     },
     "output_type": "execute_result"
    }
   ],
   "source": [
    "second_tree = RandomForestClassifierCustom(max_depth=7, max_features=6)\n",
    "second_score = cross_val_score(second_tree, X, y.values, cv=skf, scoring='roc_auc')\n",
    "round(np.mean(second_score), 3)"
   ]
  },
  {
   "cell_type": "markdown",
   "metadata": {
    "colab_type": "text",
    "id": "xsSw5SMgB0BC"
   },
   "source": [
    "**<font color='red'>Задание 5.</font>**\n",
    "Тут сравним нашу собственную реализацию случайного леса с `sklearn`-овской. Для этого воспользуйтесь `RandomForestClassifier(n_jobs=1, random_state=17)`, укажите все те же значения `max_depth` и `max_features`, что и раньше. Какое среднее значение ROC AUC на кросс-валидации мы в итоге получили? Выберите самое близкое значение.\n",
    "\n",
    "**<font color='red'>Варианты ответа:</font>**\n",
    "- 0.823\n",
    "- <b>0.833</b>\n",
    "- 0.843\n",
    "- 0.853"
   ]
  },
  {
   "cell_type": "code",
   "execution_count": 37,
   "metadata": {
    "colab": {
     "autoexec": {
      "startup": false,
      "wait_interval": 0
     },
     "base_uri": "https://localhost:8080/",
     "height": 34,
     "output_extras": [
      {
       "item_id": 1
      }
     ]
    },
    "colab_type": "code",
    "executionInfo": {
     "elapsed": 2871,
     "status": "ok",
     "timestamp": 1521328674049,
     "user": {
      "displayName": "Мария Еремина",
      "photoUrl": "https://lh3.googleusercontent.com/a/default-user=s128",
      "userId": "102608780694181127712"
     },
     "user_tz": -300
    },
    "id": "bnLVkWFzvHZN",
    "outputId": "ca11af18-097c-40b2-9dad-fa833812f28c"
   },
   "outputs": [
    {
     "data": {
      "text/plain": [
       "0.831"
      ]
     },
     "execution_count": 37,
     "metadata": {
      "tags": []
     },
     "output_type": "execute_result"
    }
   ],
   "source": [
    "third_tree = RandomForestClassifier(max_depth=7, max_features=6, n_jobs=1, random_state=17)\n",
    "third_score = cross_val_score(third_tree, X, y.values, cv=skf, scoring='roc_auc')\n",
    "round(np.mean(third_score), 3)"
   ]
  },
  {
   "cell_type": "code",
   "execution_count": 38,
   "metadata": {
    "colab": {
     "autoexec": {
      "startup": false,
      "wait_interval": 0
     },
     "base_uri": "https://localhost:8080/",
     "height": 34,
     "output_extras": [
      {
       "item_id": 1
      }
     ]
    },
    "colab_type": "code",
    "executionInfo": {
     "elapsed": 668,
     "status": "ok",
     "timestamp": 1521328681376,
     "user": {
      "displayName": "Мария Еремина",
      "photoUrl": "https://lh3.googleusercontent.com/a/default-user=s128",
      "userId": "102608780694181127712"
     },
     "user_tz": -300
    },
    "id": "vdlsD3lzCKe_",
    "outputId": "445e5e0f-79a0-4b15-ef40-45d549c642c5"
   },
   "outputs": [
    {
     "data": {
      "text/plain": [
       "-9.556909386720935e-05"
      ]
     },
     "execution_count": 38,
     "metadata": {
      "tags": []
     },
     "output_type": "execute_result"
    }
   ],
   "source": [
    "np.mean(third_score) - np.mean(second_score)"
   ]
  },
  {
   "cell_type": "markdown",
   "metadata": {
    "colab_type": "text",
    "id": "ByqSI4NsB0Bg"
   },
   "source": [
    "# Случайный лес `sklearn`, подбор гиперпараметров"
   ]
  },
  {
   "cell_type": "markdown",
   "metadata": {
    "colab_type": "text",
    "id": "OmzRc8FxB0Bk"
   },
   "source": [
    "**<font color='red'>Задание 6.</font>** \n",
    "В 3 задании мы находили оптимальные гиперпараметры для одного дерева, но может быть, для ансамбля эти параметры дерева не будут оптимальными. Давайте проверим это с помощью `GridSearchCV` `(RandomForestClassifier(random_state=17)`).  Только теперь расширим перебираемые значения `max_depth` до 15 включительно, так как в лесу нужны деревья поглубже (а почему именно – вы поняли из [статьи](https://habrahabr.ru/company/ods/blog/324402/)). Какими теперь стали лучшие значения гиперпараметров?\n",
    "\n",
    "**<font color='red'>Варианты ответа:</font>**\n",
    "- <b>`max_depth=8, max_features=4`</b>\n",
    "- `max_depth=9, max_features=5`\n",
    "- `max_depth=10, max_features=6`\n",
    "- `max_depth=11, max_features=7`"
   ]
  },
  {
   "cell_type": "code",
   "execution_count": 0,
   "metadata": {
    "colab": {
     "autoexec": {
      "startup": false,
      "wait_interval": 0
     }
    },
    "colab_type": "code",
    "id": "K3vlkWuuB0Bn"
   },
   "outputs": [],
   "source": [
    "max_depth_values = range(5, 16)\n",
    "max_features_values = range(4, 8)\n",
    "forest_params = {'max_depth': max_depth_values,\n",
    "               'max_features': max_features_values}"
   ]
  },
  {
   "cell_type": "code",
   "execution_count": 40,
   "metadata": {
    "colab": {
     "autoexec": {
      "startup": false,
      "wait_interval": 0
     },
     "base_uri": "https://localhost:8080/",
     "height": 34,
     "output_extras": [
      {
       "item_id": 1
      }
     ]
    },
    "colab_type": "code",
    "executionInfo": {
     "elapsed": 44815,
     "status": "ok",
     "timestamp": 1521328731137,
     "user": {
      "displayName": "Мария Еремина",
      "photoUrl": "https://lh3.googleusercontent.com/a/default-user=s128",
      "userId": "102608780694181127712"
     },
     "user_tz": -300
    },
    "id": "69cIi5WLB0B1",
    "outputId": "8bb95cfc-0ebc-4141-908b-c8806bd961d4"
   },
   "outputs": [
    {
     "data": {
      "text/plain": [
       "{'max_depth': 8, 'max_features': 4}"
      ]
     },
     "execution_count": 40,
     "metadata": {
      "tags": []
     },
     "output_type": "execute_result"
    }
   ],
   "source": [
    "four_grid = GridSearchCV(RandomForestClassifier(random_state=17), \n",
    "                         tree_params, \n",
    "                         cv=skf, \n",
    "                         return_train_score=True, \n",
    "                         scoring='roc_auc').fit(X, y.values)\n",
    "four_grid.best_params_"
   ]
  },
  {
   "cell_type": "markdown",
   "metadata": {
    "colab_type": "text",
    "id": "h4A5XuMwB0CO"
   },
   "source": [
    "# Логистическая регрессия, подбор гиперпараметров"
   ]
  },
  {
   "cell_type": "markdown",
   "metadata": {
    "colab_type": "text",
    "id": "yONcwYe3B0CW"
   },
   "source": [
    "**<font color='red'>Задание 7.</font>**  Теперь сравним с логистической регрессией (укажем `class_weight='balanced'` и `random_state=17`). Сделайте полный перебор по параметру `C` из широкого диапазона значений `np.logspace(-8, 8, 17)`. \n",
    "Только сделаем это корректно и выстроим пайплайн – сначала масштабирование, затем обучение модели. \n",
    "\n",
    "Разберитесь с пайплайнами и проведите кросс-валидацию. Какое получилось лучшее значение средней ROC AUC? Выберите самое близкое значение.\n",
    "\n",
    "**<font color='red'>Варианты ответа:</font>**\n",
    "- 0.778\n",
    "- <b>0.788</b>\n",
    "- 0.798\n",
    "- 0.808"
   ]
  },
  {
   "cell_type": "code",
   "execution_count": 0,
   "metadata": {
    "colab": {
     "autoexec": {
      "startup": false,
      "wait_interval": 0
     }
    },
    "colab_type": "code",
    "id": "--Kt6nEJB0Cj"
   },
   "outputs": [],
   "source": [
    "from sklearn.pipeline import Pipeline\n",
    "from sklearn.preprocessing import StandardScaler\n",
    "from sklearn.linear_model import LogisticRegression\n",
    "\n",
    "scaler = StandardScaler()\n",
    "logit = LogisticRegression(random_state=17, class_weight='balanced')\n",
    "\n",
    "logit_pipe = Pipeline([('scaler', scaler), ('logit', logit)])\n",
    "logit_pipe_params = {'logit__C': np.logspace(-8, 8, 17)}"
   ]
  },
  {
   "cell_type": "code",
   "execution_count": 162,
   "metadata": {
    "colab": {
     "autoexec": {
      "startup": false,
      "wait_interval": 0
     },
     "base_uri": "https://localhost:8080/",
     "height": 34,
     "output_extras": [
      {
       "item_id": 1
      }
     ]
    },
    "colab_type": "code",
    "executionInfo": {
     "elapsed": 10189,
     "status": "ok",
     "timestamp": 1521321663303,
     "user": {
      "displayName": "Мария Еремина",
      "photoUrl": "https://lh3.googleusercontent.com/a/default-user=s128",
      "userId": "102608780694181127712"
     },
     "user_tz": -300
    },
    "id": "GQu_14lZB0C4",
    "outputId": "164f7f23-c7ae-4c70-b1fa-89cb74d26391"
   },
   "outputs": [
    {
     "data": {
      "text/plain": [
       "0.788"
      ]
     },
     "execution_count": 162,
     "metadata": {
      "tags": []
     },
     "output_type": "execute_result"
    }
   ],
   "source": [
    "five_grid = GridSearchCV(logit_pipe, param_grid=logit_pipe_params, cv=skf, return_train_score=True, \n",
    "                         scoring='roc_auc').fit(X, y.values)\n",
    "round(five_grid.best_score_, 3)"
   ]
  },
  {
   "cell_type": "markdown",
   "metadata": {
    "colab_type": "text",
    "id": "8GvcdFL7B0DE"
   },
   "source": [
    "# Логистическая регрессия и случайный лес на разреженных признаках"
   ]
  },
  {
   "cell_type": "markdown",
   "metadata": {
    "colab_type": "text",
    "id": "on5tR94oB0DH"
   },
   "source": [
    "В случае небольшого числа признаков случайный лес показал себя лучше логистической регрессии. Однако один из главных недостатков деревьев проявляется при работе с разреженным данными, например с текстами. Давайте сравним логистическую регрессию и случайный лес в новой задаче.\n",
    "Скачайте данные с отзывами к фильмам [отсюда](https://drive.google.com/open?id=12OPgwkx5Q63iqxXGR3MqZQpiMev_aB7g)."
   ]
  },
  {
   "cell_type": "code",
   "execution_count": 41,
   "metadata": {
    "colab": {
     "autoexec": {
      "startup": false,
      "wait_interval": 0
     },
     "base_uri": "https://localhost:8080/",
     "height": 68,
     "output_extras": [
      {
       "item_id": 1
      }
     ]
    },
    "colab_type": "code",
    "executionInfo": {
     "elapsed": 616,
     "status": "ok",
     "timestamp": 1521328732165,
     "user": {
      "displayName": "Мария Еремина",
      "photoUrl": "https://lh3.googleusercontent.com/a/default-user=s128",
      "userId": "102608780694181127712"
     },
     "user_tz": -300
    },
    "id": "Vg9mXP4GB0DU",
    "outputId": "7c1fabc7-898b-493a-e42d-42f6e29d3691"
   },
   "outputs": [
    {
     "data": {
      "text/plain": [
       "1    32492\n",
       "0    17508\n",
       "Name: label, dtype: int64"
      ]
     },
     "execution_count": 41,
     "metadata": {
      "tags": []
     },
     "output_type": "execute_result"
    }
   ],
   "source": [
    "# Загрузим данные\n",
    "df = pd.read_csv(csv[0], nrows=50000)\n",
    "\n",
    "# Разделим данные на текст и целевой признак\n",
    "X_text = df[\"text\"]\n",
    "y_text = df[\"label\"]\n",
    "\n",
    "\n",
    "# Соотношения классов\n",
    "df.label.value_counts()"
   ]
  },
  {
   "cell_type": "code",
   "execution_count": 0,
   "metadata": {
    "colab": {
     "autoexec": {
      "startup": false,
      "wait_interval": 0
     }
    },
    "colab_type": "code",
    "id": "rIEgp_xnB0Dh"
   },
   "outputs": [],
   "source": [
    "from sklearn.feature_extraction.text import CountVectorizer\n",
    "from sklearn.pipeline import Pipeline\n",
    "\n",
    "# будем разбивать на 3 фолда\n",
    "skf = StratifiedKFold(n_splits=3, shuffle=True, random_state=17)\n",
    "\n",
    "# в Pipeline будем сразу преобразовать наш текст и обучать логистическую регрессию\n",
    "classifier = Pipeline([\n",
    "    ('vectorizer', CountVectorizer(max_features = 100000, ngram_range = (1, 3))),\n",
    "    ('clf', LogisticRegression(random_state=17))])\n"
   ]
  },
  {
   "cell_type": "markdown",
   "metadata": {
    "colab_type": "text",
    "id": "HxtfZBi0B0Dx"
   },
   "source": [
    "**<font color='red'>Задание 8.</font>** Сделайте полный перебор по параметру `C` из выборки [0.1, 1, 10, 100]. Какое лучшее значение ROC AUC получилось на кросс-валидации? Выберите самое близкое значение.\n",
    "\n",
    "**<font color='red'>Варианты ответа:</font>**\n",
    "- 0.74\n",
    "- 0.75\n",
    "- 0.84\n",
    "- <b>0.85</b>"
   ]
  },
  {
   "cell_type": "code",
   "execution_count": 171,
   "metadata": {
    "colab": {
     "autoexec": {
      "startup": false,
      "wait_interval": 0
     },
     "base_uri": "https://localhost:8080/",
     "height": 34,
     "output_extras": [
      {
       "item_id": 1
      }
     ]
    },
    "colab_type": "code",
    "executionInfo": {
     "elapsed": 154352,
     "status": "ok",
     "timestamp": 1521322528114,
     "user": {
      "displayName": "Мария Еремина",
      "photoUrl": "https://lh3.googleusercontent.com/a/default-user=s128",
      "userId": "102608780694181127712"
     },
     "user_tz": -300
    },
    "id": "VYxLrXGoB0D3",
    "outputId": "94d6bbdb-5646-4d67-ef66-dcbfe12a9e71"
   },
   "outputs": [
    {
     "data": {
      "text/plain": [
       "0.86"
      ]
     },
     "execution_count": 171,
     "metadata": {
      "tags": []
     },
     "output_type": "execute_result"
    }
   ],
   "source": [
    "logit_pipe_params = {'clf__C': list([0.1, 1, 10, 100])}\n",
    "five_grid = GridSearchCV(classifier, param_grid=logit_pipe_params, cv=skf, return_train_score=True, \n",
    "                         scoring='roc_auc').fit(X_text, y_text)\n",
    "round(five_grid.best_score_, 2)"
   ]
  },
  {
   "cell_type": "markdown",
   "metadata": {
    "colab_type": "text",
    "id": "_5lCtVjnB0EE"
   },
   "source": [
    "**<font color='red'>Задание 9.</font>** Теперь попробуем сравнить со случайным лесом. Аналогично делаем перебор и получаем максимальное ROC AUC. Выберите самое близкое значение.\n",
    "\n",
    "**<font color='red'>Варианты ответа:</font>**\n",
    "- 0.74\n",
    "- <b>0.75</b>\n",
    "- 0.84\n",
    "- 0.85"
   ]
  },
  {
   "cell_type": "code",
   "execution_count": 0,
   "metadata": {
    "colab": {
     "autoexec": {
      "startup": false,
      "wait_interval": 0
     }
    },
    "colab_type": "code",
    "id": "amzLAKoAB0EI"
   },
   "outputs": [],
   "source": [
    "classifier = Pipeline([\n",
    "    ('vectorizer', CountVectorizer(max_features=100000, ngram_range=(1, 3))),\n",
    "    ('clf', RandomForestClassifier(random_state=17, n_jobs=-1))])\n",
    "\n",
    "min_samples_leaf = [1, 2, 3]\n",
    "max_features = [0.3, 0.5, 0.7]\n",
    "max_depth = [None]"
   ]
  },
  {
   "cell_type": "code",
   "execution_count": 45,
   "metadata": {
    "colab": {
     "autoexec": {
      "startup": false,
      "wait_interval": 0
     },
     "base_uri": "https://localhost:8080/",
     "height": 51,
     "output_extras": [
      {
       "item_id": 1
      }
     ]
    },
    "colab_type": "code",
    "executionInfo": {
     "elapsed": 3365439,
     "status": "ok",
     "timestamp": 1521332142368,
     "user": {
      "displayName": "Мария Еремина",
      "photoUrl": "https://lh3.googleusercontent.com/a/default-user=s128",
      "userId": "102608780694181127712"
     },
     "user_tz": -300
    },
    "id": "oE2KZ4RUB0ES",
    "outputId": "ccdb44c2-1a11-4746-9854-dcf2180314d7"
   },
   "outputs": [
    {
     "name": "stdout",
     "output_type": "stream",
     "text": [
      "CPU times: user 7min 1s, sys: 845 ms, total: 7min 1s\n",
      "Wall time: 56min 4s\n"
     ]
    }
   ],
   "source": [
    "%%time\n",
    "params = {'clf__min_samples_leaf': min_samples_leaf,\n",
    "          'clf__max_features': max_features}\n",
    "six_grid = GridSearchCV(classifier, param_grid=params, cv=skf, return_train_score=True, \n",
    "                         scoring='roc_auc', n_jobs=-1).fit(X_text, y_text)"
   ]
  },
  {
   "cell_type": "code",
   "execution_count": 46,
   "metadata": {
    "colab": {
     "autoexec": {
      "startup": false,
      "wait_interval": 0
     },
     "base_uri": "https://localhost:8080/",
     "height": 34,
     "output_extras": [
      {
       "item_id": 1
      }
     ]
    },
    "colab_type": "code",
    "executionInfo": {
     "elapsed": 615,
     "status": "ok",
     "timestamp": 1521332943318,
     "user": {
      "displayName": "Мария Еремина",
      "photoUrl": "https://lh3.googleusercontent.com/a/default-user=s128",
      "userId": "102608780694181127712"
     },
     "user_tz": -300
    },
    "id": "SrQOj0v4Cjgk",
    "outputId": "26bf1280-f6b6-4892-a933-28f5073c9260"
   },
   "outputs": [
    {
     "data": {
      "text/plain": [
       "0.75"
      ]
     },
     "execution_count": 46,
     "metadata": {
      "tags": []
     },
     "output_type": "execute_result"
    }
   ],
   "source": [
    "round(six_grid.best_score_, 2)"
   ]
  }
 ],
 "metadata": {
  "accelerator": "GPU",
  "colab": {
   "collapsed_sections": [],
   "default_view": {},
   "name": "hw5_session3_rf_logit_scoring_texts.ipynb",
   "provenance": [],
   "version": "0.3.2",
   "views": {}
  },
  "kernelspec": {
   "display_name": "Python 3",
   "language": "python",
   "name": "python3"
  },
  "language_info": {
   "codemirror_mode": {
    "name": "ipython",
    "version": 3
   },
   "file_extension": ".py",
   "mimetype": "text/x-python",
   "name": "python",
   "nbconvert_exporter": "python",
   "pygments_lexer": "ipython3",
   "version": "3.6.2"
  }
 },
 "nbformat": 4,
 "nbformat_minor": 1
}
